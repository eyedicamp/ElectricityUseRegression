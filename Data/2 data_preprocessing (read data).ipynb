{
 "cells": [
  {
   "cell_type": "markdown",
   "metadata": {},
   "source": [
    "<h3>모든 파일의 한시간 단위 데이터를 하나의 데이터 프레임으로 합치기</h3>"
   ]
  },
  {
   "cell_type": "code",
   "execution_count": null,
   "metadata": {},
   "outputs": [],
   "source": [
    "#!pip install openpyxl"
   ]
  },
  {
   "cell_type": "code",
   "execution_count": 1,
   "metadata": {},
   "outputs": [],
   "source": [
    "import openpyxl as op\n",
    "import matplotlib.pyplot as plt\n",
    "import pandas as pd\n",
    "import numpy as np\n",
    "import os "
   ]
  },
  {
   "cell_type": "code",
   "execution_count": 26,
   "metadata": {},
   "outputs": [],
   "source": [
    "src_dir = './2_xlsx_files/'#<----엑셀 파일들이 저장된 폴더명\n",
    "separate_date = False # 년월일 정보를 분리해서 엑셀에 저장할지 여부\n",
    "if separate_date:\n",
    "    output_filename = 'hourly_power(separate_date).xls' # 최종 결과를 저장할 파일명\n",
    "else:\n",
    "    output_filename = 'hourly_power(no_separate_date).xls' # 최종 결과를 저장할 파일명"
   ]
  },
  {
   "cell_type": "markdown",
   "metadata": {},
   "source": [
    "### 사용될 최종 데이터 프레임 초기화"
   ]
  },
  {
   "cell_type": "code",
   "execution_count": 27,
   "metadata": {},
   "outputs": [],
   "source": [
    "if separate_date:\n",
    "    final_dataset=pd.DataFrame(columns=['시', '사용량\\n(kWh)', \n",
    "                                        '최대수요\\n(kW)', '무효전력 (kVarh)_지상', \n",
    "                                        '무효전력 (kVarh)_진상', 'CO2\\n(tCO2)', \n",
    "                                        '역률 (%)_지상', '역률 (%)_진상', \n",
    "                                        'date', 'year', 'month', 'day'])\n",
    "else:\n",
    "    final_dataset=pd.DataFrame(columns=['시', '사용량\\n(kWh)', \n",
    "                                        '최대수요\\n(kW)', '무효전력 (kVarh)_지상', \n",
    "                                        '무효전력 (kVarh)_진상', 'CO2\\n(tCO2)', \n",
    "                                        '역률 (%)_지상', '역률 (%)_진상', \n",
    "                                        'date'])"
   ]
  },
  {
   "cell_type": "markdown",
   "metadata": {},
   "source": [
    "### 모든 파일의 데이터를 최종 데이터 프레임에 추가"
   ]
  },
  {
   "cell_type": "code",
   "execution_count": 28,
   "metadata": {},
   "outputs": [
    {
     "name": "stdout",
     "output_type": "stream",
     "text": [
      "done\n"
     ]
    }
   ],
   "source": [
    "hours_per_day = 24\n",
    "ten_days = 10  # 약, 한달의 1/3\n",
    "count_valid_days = 0 # 최종 결과에 포함되는 날 수\n",
    "\n",
    "files = os.listdir(src_dir) # 경로에 있는 모든 파일명 추출\n",
    "\n",
    "for file_name in files: # 각 파일명에 대해서 ...\n",
    "    # fname = \"경로명 + 파일명\"\n",
    "    fname = os.path.join(src_dir, file_name)\n",
    "    # 엑셀 파일 읽어서 판다스 데이터프레임에 저장\n",
    "    df = pd.read_excel(fname, skiprows=[0,1])\n",
    "    df.columns=['시', '사용량\\n(kWh)', '최대수요\\n(kW)', \n",
    "                '무효전력 (kVarh)_지상', '무효전력 (kVarh)_진상',\n",
    "                'CO2\\n(tCO2)', '역률 (%)_지상', '역률 (%)_진상', \n",
    "                '시.1', '사용량\\n(kWh).1', '최대수요\\n(kW).1', \n",
    "                '무효전력 (kVarh)_지상.1', '무효전력 (kVarh)_진상.1', \n",
    "                'CO2\\n(tCO2).1', '역률 (%)_지상.1', '역률 (%)_진상.1']\n",
    "    index=[i for i in range(13,63)] # 15분 단위 데이터 인덱스\n",
    "    df.drop(index, axis=0, inplace=True) # 15분 단위 데이터 삭제\n",
    "    df.drop([0], axis=0, inplace=True) # NaN이 포함된 칼럼 이름 행 삭제\n",
    "    dataset_from13=df.iloc[:,[8,9,10,11,12,13,14,15]] # 13시~24시까지 데이터\n",
    "    dataset_from13.columns=['시', '사용량\\n(kWh)', '최대수요\\n(kW)', \n",
    "                            '무효전력 (kVarh)_지상', '무효전력 (kVarh)_진상',\n",
    "                            'CO2\\n(tCO2)', '역률 (%)_지상', '역률 (%)_진상']\n",
    "                            # 칼럼 이름을 최종 데이터 프레임의 칼럼 이름과 같게 재설정\n",
    "    dataset_from0_to12=df.iloc[:,[0,1,2,3,4,5,6,7]] # 1시~12시까지 데이터\n",
    "    result=pd.concat([dataset_from0_to12, dataset_from13], axis=0) # 하나의 데이터 프레임으로 합체\n",
    "    \n",
    "    # 파일명에서 년월일 정보를 추출해서, date 칼럼으로 추가\n",
    "    curr_date = file_name.split('(')[1].split(')')[0]\n",
    "    result['date'] = [curr_date]*hours_per_day\n",
    "    \n",
    "    if separate_date:\n",
    "        year = curr_date[0:4]\n",
    "        month = curr_date[4:6]\n",
    "        day = curr_date[6:]\n",
    "        result['year'] = [year]*hours_per_day\n",
    "        result['month'] = [month]*hours_per_day\n",
    "        result['day'] = [day]*hours_per_day\n",
    "    \n",
    "    # 월 단위로, 전력 총 사용량이 0인 날 수를 계산\n",
    "    zero_total_power_days = (result['사용량\\n(kWh)'] == 0).sum()\n",
    "    # 월 단위로, 전력 PEAK 수치가 0인 날 수를 계산\n",
    "    peak_total_power_days = (result['최대수요\\n(kW)'] == 0).sum()\n",
    "    #print(curr_date + \" : zeros in total power (%d) and peak power (%d)\"%(zero_total_power_days,peak_total_power_days))\n",
    "    \n",
    "    # 한달을 기준으로, 전력 사용량 또는 PEAK가 10일 넘게 0을 기록했다면\n",
    "    # 최종 데이터에 포함하지 않도록...\n",
    "    if (zero_total_power_days > ten_days) or (peak_total_power_days > ten_days):\n",
    "        pass\n",
    "    else:\n",
    "        final_dataset=pd.concat([final_dataset, result]) #최종 데이터 프레임에 추가\n",
    "        count_valid_days += 1\n",
    "\n",
    "# 최종 데이터 프레임의 index 재설정\n",
    "final_dataset.index=[i for i in range(1, count_valid_days*hours_per_day+1)] \n",
    "print('done')"
   ]
  },
  {
   "cell_type": "code",
   "execution_count": null,
   "metadata": {},
   "outputs": [],
   "source": [
    "final_dataset # \"파일 개수 * 각 파일당 24행\" 만큼의 정보가 저장됨"
   ]
  },
  {
   "cell_type": "markdown",
   "metadata": {},
   "source": [
    "### 결측치 있는지 확인"
   ]
  },
  {
   "cell_type": "code",
   "execution_count": 30,
   "metadata": {},
   "outputs": [
    {
     "data": {
      "text/plain": [
       "시                  0\n",
       "사용량\\n(kWh)         0\n",
       "최대수요\\n(kW)         0\n",
       "무효전력 (kVarh)_지상    0\n",
       "무효전력 (kVarh)_진상    0\n",
       "CO2\\n(tCO2)        0\n",
       "역률 (%)_지상          0\n",
       "역률 (%)_진상          0\n",
       "date               0\n",
       "dtype: int64"
      ]
     },
     "execution_count": 30,
     "metadata": {},
     "output_type": "execute_result"
    }
   ],
   "source": [
    "final_dataset.isnull().sum()#결과가 모두 0 -> 결측치 없음"
   ]
  },
  {
   "cell_type": "markdown",
   "metadata": {},
   "source": [
    "### 최종 결과를 엑셀 파일로 저장"
   ]
  },
  {
   "cell_type": "code",
   "execution_count": 31,
   "metadata": {},
   "outputs": [],
   "source": [
    "#!pip install xlwt"
   ]
  },
  {
   "cell_type": "code",
   "execution_count": 32,
   "metadata": {},
   "outputs": [
    {
     "name": "stderr",
     "output_type": "stream",
     "text": [
      "c:\\users\\daniel\\appdata\\local\\programs\\python\\python37\\lib\\site-packages\\ipykernel_launcher.py:1: FutureWarning: As the xlwt package is no longer maintained, the xlwt engine will be removed in a future version of pandas. This is the only engine in pandas that supports writing in the xls format. Install openpyxl and write to an xlsx file instead. You can set the option io.excel.xls.writer to 'xlwt' to silence this warning. While this option is deprecated and will also raise a warning, it can be globally set and the warning suppressed.\n",
      "  \"\"\"Entry point for launching an IPython kernel.\n"
     ]
    }
   ],
   "source": [
    "final_dataset.to_excel(output_filename, sheet_name='data')"
   ]
  },
  {
   "cell_type": "code",
   "execution_count": null,
   "metadata": {},
   "outputs": [],
   "source": []
  }
 ],
 "metadata": {
  "kernelspec": {
   "display_name": "Python 3",
   "language": "python",
   "name": "python3"
  },
  "language_info": {
   "codemirror_mode": {
    "name": "ipython",
    "version": 3
   },
   "file_extension": ".py",
   "mimetype": "text/x-python",
   "name": "python",
   "nbconvert_exporter": "python",
   "pygments_lexer": "ipython3",
   "version": "3.7.2"
  }
 },
 "nbformat": 4,
 "nbformat_minor": 2
}
