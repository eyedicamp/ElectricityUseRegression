{
 "cells": [
  {
   "cell_type": "code",
   "execution_count": 1,
   "metadata": {},
   "outputs": [],
   "source": [
    "import openpyxl as op\n",
    "import matplotlib.pyplot as plt\n",
    "import pandas as pd\n",
    "import numpy as np"
   ]
  },
  {
   "attachments": {},
   "cell_type": "markdown",
   "metadata": {},
   "source": [
    "적산전력 시트: 20180101-20211231 빠진 날짜 없음"
   ]
  },
  {
   "cell_type": "code",
   "execution_count": null,
   "metadata": {},
   "outputs": [],
   "source": [
    "df=pd.read_excel('../가공-도장-조립 취합_전체.xlsx').drop(['Unnamed: 0'], axis=1).transpose()\n",
    "\n",
    "print(df)\n",
    "\n",
    "gagong_weight = df.values.tolist()[1][:1663]\n",
    "gagong_length = df.values.tolist()[2][:1663]\n",
    "dojang_pyomeyun = df.values.tolist()[3][:1663]\n",
    "dojang_dojang = df.values.tolist()[4][:1663]\n",
    "jorip_weight = df.values.tolist()[5][:1663]\n",
    "jorip_length = df.values.tolist()[6][:1663]\n",
    "jorip_yongchack = df.values.tolist()[7][:1663]\n",
    "elec_use = df.values.tolist()[8][:1663]\n",
    "elec_peak = df.values.tolist()[9][:1663]\n",
    "\n",
    "print(elec_use)\n",
    "print(elec_peak)\n",
    "#a.plot(figsize=(20,10)).legend(bbox_to_anchor=(1.0, 1.0),fontsize='large')"
   ]
  },
  {
   "cell_type": "code",
   "execution_count": 3,
   "metadata": {},
   "outputs": [
    {
     "name": "stdout",
     "output_type": "stream",
     "text": [
      "1663\n",
      "1663\n"
     ]
    }
   ],
   "source": [
    "print(len(elec_peak))\n",
    "for i in range(1663):\n",
    "    if elec_peak[i] == 0:\n",
    "        mean = 0\n",
    "        for j in range(i-10, i+11):\n",
    "            mean += elec_peak[j]\n",
    "        mean = mean / 20\n",
    "        elec_peak[i] = mean\n",
    "\n",
    "print(len(elec_use))\n",
    "for i in range(1663):\n",
    "    if elec_use[i] == 0:\n",
    "        mean = 0\n",
    "        for j in range(i-10, i+11):\n",
    "            mean += elec_use[j]\n",
    "        mean = mean / 20\n",
    "        elec_use[i] = mean"
   ]
  },
  {
   "attachments": {},
   "cell_type": "markdown",
   "metadata": {},
   "source": [
    "첫번째 시트, 빠진 날짜 다소 존재"
   ]
  },
  {
   "attachments": {},
   "cell_type": "markdown",
   "metadata": {},
   "source": [
    "<h1>전처리 마친 정리 시트</h1>"
   ]
  },
  {
   "cell_type": "code",
   "execution_count": null,
   "metadata": {},
   "outputs": [],
   "source": [
    "test=[]\n",
    "test.append(elec_peak)\n",
    "test.append(elec_use)\n",
    "print(test)"
   ]
  },
  {
   "attachments": {},
   "cell_type": "markdown",
   "metadata": {},
   "source": [
    "PEAK vs 시운전호선 - PEAK"
   ]
  },
  {
   "cell_type": "code",
   "execution_count": null,
   "metadata": {},
   "outputs": [],
   "source": [
    "import xgboost\n",
    "import matplotlib.pyplot as plt\n",
    "from sklearn.metrics import explained_variance_score\n",
    "import numpy as np\n",
    "from sklearn.model_selection import train_test_split\n",
    "\n",
    "#x=features, y=peak\n",
    "X_train = []\n",
    "X_train.append(np.array(gagong_weight, dtype=object))\n",
    "X_train.append(np.array(gagong_length, dtype=object))\n",
    "X_train.append(np.array(dojang_pyomeyun, dtype=object))\n",
    "X_train.append(np.array(dojang_dojang, dtype=object))\n",
    "X_train.append(np.array(jorip_weight, dtype=object))\n",
    "X_train.append(np.array(jorip_length, dtype=object))\n",
    "X_train.append(np.array(jorip_yongchack, dtype=object))\n",
    "X_train=np.array(X_train).transpose()\n",
    "\n",
    "y_train = np.array(elec_peak, dtype=object)\n",
    "xtrain, xtest, ytrain, ytest=te=train_test_split(X_train, y_train, test_size=0.2)\n",
    "xgb_model = xgboost.XGBRegressor(base_score=0.5, booster=\"gbtree\", colsample_bylevel=1, colsample_bynode=1, \n",
    "                                 colsample_bytree=1, gpu_id=-1, importance_type=\"gain\", interaction_constraints='', learning_rate=0.1, \n",
    "                                 max_delta_step=0, max_depth=5, min_child_weight=1, monotone_constraints='()', n_estimators=100, \n",
    "                                 gamma=0, n_jobs=0, num_parallel_tree=1, random_state=0, reg_alpha=0, reg_lambda=1, scale_pos_weight=1, \n",
    "                                 subsample=1, tree_method=\"exact\", validate_parameter=1, verbosity=None)\n",
    "\n",
    "print(X_train.shape)\n",
    "xgb_model.fit(X_train,y_train)\n",
    "ypred=xgb_model.predict(xtest)\n",
    "x_ax = range(len(ytest))\n",
    "plt.plot(x_ax, ytest, label=\"original\", alpha=1)\n",
    "plt.plot(x_ax, ypred, label=\"predicted\", alpha=1)\n",
    "plt.title(\"USE\")\n",
    "plt.legend()\n",
    "plt.show()"
   ]
  },
  {
   "cell_type": "code",
   "execution_count": 6,
   "metadata": {},
   "outputs": [
    {
     "data": {
      "text/plain": [
       "<Axes: title={'center': 'Feature importance'}, xlabel='F score', ylabel='Features'>"
      ]
     },
     "execution_count": 6,
     "metadata": {},
     "output_type": "execute_result"
    },
    {
     "data": {
      "image/png": "[encoded data removed]",
      "text/plain": [
       "<Figure size 640x480 with 1 Axes>"
      ]
     },
     "metadata": {},
     "output_type": "display_data"
    }
   ],
   "source": [
    "xgboost.plot_importance(xgb_model)\n",
    "#부하율, 온도, 습도, 최고기온, 최고습도, 조립량, 조립량 전체\n",
    "#  0     1      2     3        4        5       6"
   ]
  },
  {
   "cell_type": "code",
   "execution_count": 7,
   "metadata": {},
   "outputs": [
    {
     "name": "stdout",
     "output_type": "stream",
     "text": [
      "0.9351565108886616\n"
     ]
    }
   ],
   "source": [
    "r_sq = xgb_model.score(X_train, y_train)\n",
    "print(r_sq)\n",
    "\n",
    "# xgb_model.save_model(\"Peak_daily_model.txt\")"
   ]
  },
  {
   "attachments": {},
   "cell_type": "markdown",
   "metadata": {},
   "source": [
    "PEAK vs 시운전호선 - 총전력"
   ]
  },
  {
   "cell_type": "code",
   "execution_count": null,
   "metadata": {},
   "outputs": [],
   "source": [
    "from sklearn.model_selection import train_test_split\n",
    "import xgboost\n",
    "import matplotlib.pyplot as plt\n",
    "from sklearn.metrics import explained_variance_score\n",
    "import numpy as np\n",
    "\n",
    "#x=features, y=peak\n",
    "X_train_ = []\n",
    "X_train_.append(np.array(gagong_weight, dtype=object))\n",
    "X_train_.append(np.array(gagong_length, dtype=object))\n",
    "X_train_.append(np.array(dojang_pyomeyun, dtype=object))\n",
    "X_train_.append(np.array(dojang_dojang, dtype=object))\n",
    "X_train_.append(np.array(jorip_weight, dtype=object))\n",
    "X_train_.append(np.array(jorip_length, dtype=object))\n",
    "X_train_.append(np.array(jorip_yongchack, dtype=object))\n",
    "X_train_=np.array(X_train_).transpose()\n",
    "\n",
    "y_train_ = np.array(elec_use, dtype=object)\n",
    "xtrain, xtest, ytrain, ytest=te=train_test_split(X_train_, y_train_, test_size=0.2)\n",
    "xgb_model_ = xgboost.XGBRegressor(base_score=0.5, booster=\"gbtree\", colsample_bylevel=1, colsample_bynode=1, \n",
    "                                 colsample_bytree=1, gpu_id=-1, importance_type=\"gain\", interaction_constraints='', learning_rate=0.1, \n",
    "                                 max_delta_step=0, max_depth=5, min_child_weight=1, monotone_constraints='()', n_estimators=100, \n",
    "                                 gamma=0, n_jobs=0, num_parallel_tree=1, random_state=0, reg_alpha=0, reg_lambda=1, scale_pos_weight=1, \n",
    "                                 subsample=1, tree_method=\"exact\", validate_parameter=1, verbosity=None)\n",
    "\n",
    "print(X_train_.shape)\n",
    "xgb_model_.fit(xtrain,ytrain)\n",
    "ypred=xgb_model_.predict(xtest)\n",
    "res = range(len(ytest))\n",
    "plt.plot(res, ytest, label=\"original\")\n",
    "plt.plot(res, ypred, label=\"predicted\")\n",
    "plt.title(\"TOTAL ELEC\")\n",
    "plt.legend()\n",
    "plt.show()"
   ]
  },
  {
   "cell_type": "code",
   "execution_count": 9,
   "metadata": {},
   "outputs": [
    {
     "data": {
      "text/plain": [
       "<Axes: title={'center': 'Feature importance'}, xlabel='F score', ylabel='Features'>"
      ]
     },
     "execution_count": 9,
     "metadata": {},
     "output_type": "execute_result"
    },
    {
     "data": {
      "image/png": "[encoded data removed]",
      "text/plain": [
       "<Figure size 640x480 with 1 Axes>"
      ]
     },
     "metadata": {},
     "output_type": "display_data"
    }
   ],
   "source": [
    "xgboost.plot_importance(xgb_model_)\n",
    "#부하율, 온도, 습도, 최고기온, 최고습도, 조립량, 조립량 전체\n",
    "#  0     1      2     3        4        5       6"
   ]
  },
  {
   "cell_type": "code",
   "execution_count": 10,
   "metadata": {},
   "outputs": [
    {
     "name": "stdout",
     "output_type": "stream",
     "text": [
      "0.9245410453616214\n",
      "0.9351565108886616\n",
      "1704.660801819928 16195.662530721 30726.44 46571.54063159062 3269.384258414257 20093.63625930779 1284.142036791238 1186234.56 76708.79999999999\n"
     ]
    }
   ],
   "source": [
    "r_sq = xgb_model_.score(xtrain, ytrain)\n",
    "print(r_sq)\n",
    "\n",
    "# xgb_model_.save_model(\"Use_daily_model.txt\")\n",
    "\n",
    "r_sq = xgb_model.score(X_train, y_train)\n",
    "print(r_sq)\n",
    "\n",
    "# xgb_model.save_model(\"Peak_daily_model.txt\")\n",
    "\n",
    "print(gagong_weight[1000], gagong_length[1000], dojang_pyomeyun[1000], dojang_dojang[1000], jorip_weight[1000], jorip_length[1000], jorip_yongchack[1000], elec_use[1000], elec_peak[1000])"
   ]
  }
 ],
 "metadata": {
  "kernelspec": {
   "display_name": "Python 3",
   "language": "python",
   "name": "python3"
  },
  "language_info": {
   "codemirror_mode": {
    "name": "ipython",
    "version": 3
   },
   "file_extension": ".py",
   "mimetype": "text/x-python",
   "name": "python",
   "nbconvert_exporter": "python",
   "pygments_lexer": "ipython3",
   "version": "3.11.3"
  },
  "orig_nbformat": 4
 },
 "nbformat": 4,
 "nbformat_minor": 2
}
