{
 "cells": [
  {
   "cell_type": "code",
   "execution_count": 57,
   "id": "f98f134d",
   "metadata": {},
   "outputs": [],
   "source": [
    "year = '2023'\n",
    "\n",
    "srcDirectory = '../2.1 확장자 변환된 엑셀 파일/'\n",
    "srcFilename = '조립_' + year + '.xlsx'\n",
    "src = srcDirectory + srcFilename"
   ]
  },
  {
   "cell_type": "code",
   "execution_count": 58,
   "id": "16481aa6",
   "metadata": {},
   "outputs": [],
   "source": [
    "dstDirectory = '../3.1 필요한 필드만 추출한 엑셀 파일/'\n",
    "dstFilename = '조립_' + year + '.xlsx'\n",
    "dst = dstDirectory + dstFilename"
   ]
  },
  {
   "cell_type": "code",
   "execution_count": 59,
   "id": "ed130118",
   "metadata": {},
   "outputs": [],
   "source": [
    "import pandas as pd"
   ]
  },
  {
   "cell_type": "code",
   "execution_count": 60,
   "id": "619a1832",
   "metadata": {},
   "outputs": [],
   "source": [
    "df = pd.read_excel(src, \n",
    "                  skiprows = [0,1,2,3,4,5,6],\n",
    "                  usecols = \"Q,T,V,AO,AP\")"
   ]
  },
  {
   "cell_type": "code",
   "execution_count": 61,
   "id": "6e360ef5",
   "metadata": {},
   "outputs": [
    {
     "name": "stdout",
     "output_type": "stream",
     "text": [
      "     설비 용접장(m)  용착량\\n(㎏)      착수일자.3      완료일자.3\n",
      "0   2.0     51       NaN  2022-12-22  2023-01-11\n",
      "1   2.0     51       NaN  2022-12-22  2023-01-11\n",
      "2   9.0    194       NaN  2022-12-22  2023-01-03\n",
      "3   9.0    249       NaN  2022-12-22  2023-01-03\n",
      "4   NaN    NaN       NaN  2023-03-07  2023-03-09\n",
      "5   NaN    NaN       NaN  2023-03-07  2023-03-09\n",
      "6   NaN    NaN       NaN  2023-03-02  2023-03-02\n",
      "7   NaN    NaN       NaN  2023-03-02  2023-03-02\n",
      "8  33.0    679       NaN  2023-02-16  2023-02-27\n",
      "9  30.0    485       NaN  2023-02-16  2023-02-28\n"
     ]
    }
   ],
   "source": [
    "\"\"\"\n",
    "아래의 필드만 추출되어야 함\n",
    "설비 용접장(m)  용착량\\n(㎏)      착수일자.3      완료일자.3\n",
    "\"\"\"\n",
    "print(df.head(10))"
   ]
  },
  {
   "cell_type": "code",
   "execution_count": 62,
   "id": "33bb2d65",
   "metadata": {},
   "outputs": [],
   "source": [
    "# 각 열의 이름을 변경하기\n",
    "df.columns = [\"중량-총량\",\"용접장-총량\",\"용착량-총량\",\n",
    "              \"중량/용접장/용착량-착수일자\",\"중량/용접장/용착량-완료일자\"]\n",
    "df = df.fillna(0) # NaN 필드를 0으로 설정"
   ]
  },
  {
   "cell_type": "code",
   "execution_count": 63,
   "id": "08487012",
   "metadata": {},
   "outputs": [
    {
     "name": "stdout",
     "output_type": "stream",
     "text": [
      "   중량-총량 용접장-총량  용착량-총량 중량/용접장/용착량-착수일자 중량/용접장/용착량-완료일자\n",
      "0    2.0     51     0.0      2022-12-22      2023-01-11\n",
      "1    2.0     51     0.0      2022-12-22      2023-01-11\n",
      "2    9.0    194     0.0      2022-12-22      2023-01-03\n",
      "3    9.0    249     0.0      2022-12-22      2023-01-03\n",
      "4    0.0      0     0.0      2023-03-07      2023-03-09\n",
      "5    0.0      0     0.0      2023-03-07      2023-03-09\n",
      "6    0.0      0     0.0      2023-03-02      2023-03-02\n",
      "7    0.0      0     0.0      2023-03-02      2023-03-02\n",
      "8   33.0    679     0.0      2023-02-16      2023-02-27\n",
      "9   30.0    485     0.0      2023-02-16      2023-02-28\n"
     ]
    }
   ],
   "source": [
    "print(df.head(10))"
   ]
  },
  {
   "cell_type": "code",
   "execution_count": 64,
   "id": "a7f0f811",
   "metadata": {},
   "outputs": [],
   "source": [
    "df.to_excel(dst)"
   ]
  },
  {
   "cell_type": "code",
   "execution_count": null,
   "id": "6e74333f",
   "metadata": {},
   "outputs": [],
   "source": []
  }
 ],
 "metadata": {
  "kernelspec": {
   "display_name": "Python 3 (ipykernel)",
   "language": "python",
   "name": "python3"
  },
  "language_info": {
   "codemirror_mode": {
    "name": "ipython",
    "version": 3
   },
   "file_extension": ".py",
   "mimetype": "text/x-python",
   "name": "python",
   "nbconvert_exporter": "python",
   "pygments_lexer": "ipython3",
   "version": "3.11.3"
  }
 },
 "nbformat": 4,
 "nbformat_minor": 5
}
