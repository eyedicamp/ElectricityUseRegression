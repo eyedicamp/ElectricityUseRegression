{
 "cells": [
  {
   "cell_type": "code",
   "execution_count": 61,
   "id": "f98f134d",
   "metadata": {},
   "outputs": [],
   "source": [
    "year = '2023'\n",
    "\n",
    "srcDirectory = '../2.1 확장자 변환된 엑셀 파일/'\n",
    "srcFilename = '도장_' + year + '.xlsx'\n",
    "src = srcDirectory + srcFilename"
   ]
  },
  {
   "cell_type": "code",
   "execution_count": 62,
   "id": "16481aa6",
   "metadata": {},
   "outputs": [],
   "source": [
    "dstDirectory = '../3.1 필요한 필드만 추출한 엑셀 파일/'\n",
    "dstFilename = '도장B_' + year + '.xlsx'\n",
    "dst = dstDirectory + dstFilename"
   ]
  },
  {
   "cell_type": "code",
   "execution_count": 63,
   "id": "ed130118",
   "metadata": {},
   "outputs": [],
   "source": [
    "import pandas as pd"
   ]
  },
  {
   "cell_type": "code",
   "execution_count": 64,
   "id": "619a1832",
   "metadata": {},
   "outputs": [],
   "source": [
    "df = pd.read_excel(src, \n",
    "                  skiprows = [0,1,2,3,4,5,6],\n",
    "                  usecols = \"BM,CG,CI\")"
   ]
  },
  {
   "cell_type": "code",
   "execution_count": 65,
   "id": "6e360ef5",
   "metadata": {},
   "outputs": [
    {
     "name": "stdout",
     "output_type": "stream",
     "text": [
      "   총.1      착수일자.5      완료일자.3\n",
      "0  NaN  2023-01-17  2023-01-19\n",
      "1  NaN  2023-01-18  2023-01-20\n",
      "2  NaN  2023-01-17  2023-01-19\n",
      "3  NaN  2023-01-18  2023-01-20\n",
      "4  NaN  2023-03-10  2023-03-13\n",
      "5  NaN  2023-03-10  2023-03-13\n",
      "6  NaN  2023-03-10  2023-03-13\n",
      "7  NaN  2023-03-10  2023-03-13\n",
      "8  NaN  2023-03-22  2023-03-27\n",
      "9  NaN  2023-03-15  2023-03-20\n"
     ]
    }
   ],
   "source": [
    "\"\"\"\n",
    "아래의 필드만 추출되어야 함\n",
    "총      착수일자.4      완료일자.2\n",
    "\"\"\"\n",
    "print(df.head(10))"
   ]
  },
  {
   "cell_type": "code",
   "execution_count": 66,
   "id": "33bb2d65",
   "metadata": {},
   "outputs": [],
   "source": [
    "# 각 열의 이름을 변경하기\n",
    "df.columns = [\"도장-총량\",\n",
    "              \"도장-착수일자\", \"도장-완료일자\"]\n",
    "df = df.fillna(0) # NaN 필드를 0으로 설정"
   ]
  },
  {
   "cell_type": "code",
   "execution_count": 67,
   "id": "08487012",
   "metadata": {},
   "outputs": [
    {
     "name": "stdout",
     "output_type": "stream",
     "text": [
      "   도장-총량     도장-착수일자     도장-완료일자\n",
      "0    0.0  2023-01-17  2023-01-19\n",
      "1    0.0  2023-01-18  2023-01-20\n",
      "2    0.0  2023-01-17  2023-01-19\n",
      "3    0.0  2023-01-18  2023-01-20\n",
      "4    0.0  2023-03-10  2023-03-13\n",
      "5    0.0  2023-03-10  2023-03-13\n",
      "6    0.0  2023-03-10  2023-03-13\n",
      "7    0.0  2023-03-10  2023-03-13\n",
      "8    0.0  2023-03-22  2023-03-27\n",
      "9    0.0  2023-03-15  2023-03-20\n"
     ]
    }
   ],
   "source": [
    "print(df.head(10))"
   ]
  },
  {
   "cell_type": "code",
   "execution_count": 68,
   "id": "a7f0f811",
   "metadata": {},
   "outputs": [],
   "source": [
    "# 엑셀 파일로 다시 저장하기\n",
    "df.to_excel(dst)"
   ]
  },
  {
   "cell_type": "code",
   "execution_count": null,
   "id": "6e74333f",
   "metadata": {},
   "outputs": [],
   "source": []
  }
 ],
 "metadata": {
  "kernelspec": {
   "display_name": "Python 3 (ipykernel)",
   "language": "python",
   "name": "python3"
  },
  "language_info": {
   "codemirror_mode": {
    "name": "ipython",
    "version": 3
   },
   "file_extension": ".py",
   "mimetype": "text/x-python",
   "name": "python",
   "nbconvert_exporter": "python",
   "pygments_lexer": "ipython3",
   "version": "3.11.3"
  }
 },
 "nbformat": 4,
 "nbformat_minor": 5
}
