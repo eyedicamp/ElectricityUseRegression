{
 "cells": [
  {
   "cell_type": "code",
   "execution_count": 189,
   "id": "f98f134d",
   "metadata": {},
   "outputs": [],
   "source": [
    "srcDirectory = '../2.1 확장자 변환된 엑셀 파일/'\n",
    "srcFilename = '1_가공실적_전체_2021.xlsx'\n",
    "src = srcDirectory + srcFilename"
   ]
  },
  {
   "cell_type": "code",
   "execution_count": 190,
   "id": "16481aa6",
   "metadata": {},
   "outputs": [],
   "source": [
    "dstDirectory = '../3.1 필요한 필드만 추출한 엑셀 파일/'\n",
    "dstFilename = srcFilename\n",
    "dst = dstDirectory + dstFilename"
   ]
  },
  {
   "cell_type": "code",
   "execution_count": 191,
   "id": "ed130118",
   "metadata": {},
   "outputs": [],
   "source": [
    "import pandas as pd"
   ]
  },
  {
   "cell_type": "code",
   "execution_count": 192,
   "id": "619a1832",
   "metadata": {},
   "outputs": [],
   "source": [
    "df = pd.read_excel(src, \n",
    "                  skiprows = [0,1,2,3,4,5,6],\n",
    "                  usecols = \"I,J,Q,R\")"
   ]
  },
  {
   "cell_type": "code",
   "execution_count": 193,
   "id": "6e360ef5",
   "metadata": {},
   "outputs": [
    {
     "name": "stdout",
     "output_type": "stream",
     "text": [
      "  블록\\n구분 블록\\n구획    설비    고유\n",
      "0     대조    HAC   2.0   2.0\n",
      "1     대조    HAC   2.0   2.0\n",
      "2     대조    HAC   9.0   9.0\n",
      "3     대조    HAC   9.0   9.0\n",
      "4     대조    HAC   NaN   NaN\n",
      "5     대조    HAC   NaN   NaN\n",
      "6     대조    HAC   NaN   NaN\n",
      "7     대조    HAC   NaN   NaN\n",
      "8     대조    HEB  33.0  33.0\n",
      "9     대조    HEB  30.0  30.0\n"
     ]
    }
   ],
   "source": [
    "\"\"\"\n",
    "아래의 필드만 추출되어야 함\n",
    "중량\\n(Ton)  절단장\\n(NP)      착수일자.1      완료일자.1\n",
    "\"\"\"\n",
    "print(df.head(10))"
   ]
  },
  {
   "cell_type": "code",
   "execution_count": 194,
   "id": "33bb2d65",
   "metadata": {},
   "outputs": [],
   "source": [
    "# 각 열의 이름을 변경하기\n",
    "df.columns = [\"중량-총량\", \"절단장-총량\",\n",
    "              \"중량/절단장-착수일자\", \"중량/절단장-완료일자\"]\n",
    "df = df.fillna(0) # NaN 필드를 0으로 설정"
   ]
  },
  {
   "cell_type": "code",
   "execution_count": 195,
   "id": "08487012",
   "metadata": {},
   "outputs": [
    {
     "name": "stdout",
     "output_type": "stream",
     "text": [
      "  중량-총량 절단장-총량  중량/절단장-착수일자  중량/절단장-완료일자\n",
      "0    대조    HAC          2.0          2.0\n",
      "1    대조    HAC          2.0          2.0\n",
      "2    대조    HAC          9.0          9.0\n",
      "3    대조    HAC          9.0          9.0\n",
      "4    대조    HAC          0.0          0.0\n",
      "5    대조    HAC          0.0          0.0\n",
      "6    대조    HAC          0.0          0.0\n",
      "7    대조    HAC          0.0          0.0\n",
      "8    대조    HEB         33.0         33.0\n",
      "9    대조    HEB         30.0         30.0\n"
     ]
    }
   ],
   "source": [
    "print(df.head(10))"
   ]
  },
  {
   "cell_type": "code",
   "execution_count": 196,
   "id": "a7f0f811",
   "metadata": {},
   "outputs": [],
   "source": [
    "# 다시 엑셀 파일로 저장\n",
    "df.to_excel(dst)"
   ]
  },
  {
   "cell_type": "code",
   "execution_count": null,
   "id": "6e74333f",
   "metadata": {},
   "outputs": [],
   "source": []
  }
 ],
 "metadata": {
  "kernelspec": {
   "display_name": "Python 3 (ipykernel)",
   "language": "python",
   "name": "python3"
  },
  "language_info": {
   "codemirror_mode": {
    "name": "ipython",
    "version": 3
   },
   "file_extension": ".py",
   "mimetype": "text/x-python",
   "name": "python",
   "nbconvert_exporter": "python",
   "pygments_lexer": "ipython3",
   "version": "3.11.3"
  }
 },
 "nbformat": 4,
 "nbformat_minor": 5
}
