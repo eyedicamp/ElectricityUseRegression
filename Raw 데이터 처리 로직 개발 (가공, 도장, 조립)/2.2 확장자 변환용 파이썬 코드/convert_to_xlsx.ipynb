{
 "cells": [
  {
   "cell_type": "markdown",
   "metadata": {},
   "source": [
    "* JDK 설치가 안되 있어서 그런지, 여기 코드 실행 실패함\n",
    "* 수작업으로 각 엑셀 파일을 xlsx 확장자로 다시 저장했음 (단순히 확장자만 변경한게 아니고, 엑셀의 '다른 이름으로 저장' 기능을 사용하여 xlsx 형식으로 다시 저장함"
   ]
  },
  {
   "cell_type": "markdown",
   "metadata": {},
   "source": [
    "### 설명\n",
    "src_dir 폴더에서 xls 파일을 읽어서 dst_dir에 xlsx 형식으로 저장하는 코드"
   ]
  },
  {
   "cell_type": "code",
   "execution_count": null,
   "metadata": {},
   "outputs": [],
   "source": [
    "#필요 패키지 설치하기\n",
    "#!pip install jpype # 이건 필요 없음\n",
    "#!pip install jpype1  \n",
    "#!pip install aspose-cells"
   ]
  },
  {
   "cell_type": "code",
   "execution_count": null,
   "metadata": {},
   "outputs": [],
   "source": [
    "# JDK가 설치된 폴더 경로 입력하기\n",
    "# 개인별로 폴더명에 차이가 있을 수 있음\n",
    "import os\n",
    "os.environ['JAVA_HOME']='C:\\Program Files\\Java\\jdk-17'"
   ]
  },
  {
   "cell_type": "code",
   "execution_count": null,
   "metadata": {},
   "outputs": [],
   "source": [
    "import jpype          \n",
    "jpype.startJVM()\n",
    "from asposecells.api import Workbook"
   ]
  },
  {
   "cell_type": "code",
   "execution_count": null,
   "metadata": {},
   "outputs": [],
   "source": [
    "# 파일이름 끝에 x를 붙여서 xls 확장자 파일을 xlsx 확장자로 바꾸는 함수\n",
    "def convert(src_dir, dst_dir, remove_original_file=False):    \n",
    "    files = os.listdir(src_dir)\n",
    "    for file_name in files:\n",
    "        if file_name.rsplit('.',1)[-1]=='xls': # if the extension is xls\n",
    "            fname = os.path.join(src_dir,file_name) # file path\n",
    "            workbook = Workbook(fname) # load xls file\n",
    "            #workbook.save(dst_dir + fname + \"x\") #save as xlsx\n",
    "            workbook.save(os.path.join(dst_dir,file_name) \n",
    "                          + \"x\") #save as xlsx\n",
    "            if remove_original_file:\n",
    "                os.remove(fname) # remove the original file"
   ]
  },
  {
   "cell_type": "code",
   "execution_count": null,
   "metadata": {},
   "outputs": [],
   "source": [
    "src_dir = '../../Data/xls/'# xls 파일들이 저장된 폴더명\n",
    "dst_dir = '../../Data/xlsx/' # 변환된 xlsx 파일을 저장할 폴더명\n",
    "convert(src_dir, dst_dir)\n",
    "jpype.shutdownJVM()"
   ]
  },
  {
   "cell_type": "code",
   "execution_count": null,
   "metadata": {},
   "outputs": [],
   "source": []
  }
 ],
 "metadata": {
  "kernelspec": {
   "display_name": "Python 3 (ipykernel)",
   "language": "python",
   "name": "python3"
  },
  "language_info": {
   "codemirror_mode": {
    "name": "ipython",
    "version": 3
   },
   "file_extension": ".py",
   "mimetype": "text/x-python",
   "name": "python",
   "nbconvert_exporter": "python",
   "pygments_lexer": "ipython3",
   "version": "3.11.3"
  }
 },
 "nbformat": 4,
 "nbformat_minor": 2
}
