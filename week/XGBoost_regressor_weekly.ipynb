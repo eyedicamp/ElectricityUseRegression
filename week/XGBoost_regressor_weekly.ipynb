{
 "cells": [
  {
   "cell_type": "code",
   "execution_count": 60,
   "metadata": {},
   "outputs": [],
   "source": [
    "import openpyxl as op\n",
    "import matplotlib.pyplot as plt\n",
    "import pandas as pd\n",
    "import numpy as np"
   ]
  },
  {
   "attachments": {},
   "cell_type": "markdown",
   "metadata": {},
   "source": [
    "적산전력 시트: 20180101-20211231 빠진 날짜 없음"
   ]
  },
  {
   "cell_type": "code",
   "execution_count": null,
   "metadata": {},
   "outputs": [],
   "source": [
    "df=pd.read_excel('../가공-도장-조립 취합_전체.xlsx').drop(['Unnamed: 0'], axis=1).transpose()\n",
    "\n",
    "print(df)\n",
    "\n",
    "gagong_weight = df.values.tolist()[1][:1660]\n",
    "gagong_length = df.values.tolist()[2][:1660]\n",
    "dojang_pyomeyun = df.values.tolist()[3][:1660]\n",
    "dojang_dojang = df.values.tolist()[4][:1660]\n",
    "jorip_weight = df.values.tolist()[5][:1660]\n",
    "jorip_length = df.values.tolist()[6][:1660]\n",
    "jorip_yongchack = df.values.tolist()[7][:1660]\n",
    "elec_use = df.values.tolist()[8][:1660]\n",
    "elec_peak = df.values.tolist()[9][:1660]\n",
    "\n",
    "print(elec_use)\n",
    "print(elec_peak)\n",
    "#a.plot(figsize=(20,10)).legend(bbox_to_anchor=(1.0, 1.0),fontsize='large')"
   ]
  },
  {
   "cell_type": "code",
   "execution_count": 62,
   "metadata": {},
   "outputs": [
    {
     "name": "stdout",
     "output_type": "stream",
     "text": [
      "1660\n",
      "1660\n"
     ]
    }
   ],
   "source": [
    "print(len(elec_peak))\n",
    "for i in range(1660):\n",
    "    if elec_peak[i] == 0:\n",
    "        mean = 0\n",
    "        for j in range(i-10, i+11):\n",
    "            mean += elec_peak[j]\n",
    "        mean = mean / 20\n",
    "        elec_peak[i] = mean\n",
    "\n",
    "print(len(elec_use))\n",
    "for i in range(1660):\n",
    "    if elec_use[i] == 0:\n",
    "        mean = 0\n",
    "        for j in range(i-10, i+11):\n",
    "            mean += elec_use[j]\n",
    "        mean = mean / 20\n",
    "        elec_use[i] = mean"
   ]
  },
  {
   "attachments": {},
   "cell_type": "markdown",
   "metadata": {},
   "source": [
    "첫번째 시트, 빠진 날짜 다소 존재"
   ]
  },
  {
   "attachments": {},
   "cell_type": "markdown",
   "metadata": {},
   "source": [
    "<h1>전처리 마친 정리 시트</h1>"
   ]
  },
  {
   "cell_type": "code",
   "execution_count": 63,
   "metadata": {},
   "outputs": [],
   "source": [
    "weekly_gagong_weight = []\n",
    "weekly_gagong_length = []\n",
    "weekly_dojang_pyomeyun = []\n",
    "weekly_dojang_dojang = []\n",
    "weekly_jorip_weight = []\n",
    "weekly_jorip_length = []\n",
    "weekly_jorip_yongchack = []\n",
    "weekly_elec_use = []\n",
    "weekly_elec_peak = []\n",
    "\n",
    "\n",
    "for i in range(0, 1660, 5):\n",
    "    gagong_weight_sum = 0\n",
    "    gagong_length_sum = 0\n",
    "    dojang_pyomeyun_sum = 0\n",
    "    dojang_dojang_sum = 0\n",
    "    jorip_weight_sum = 0\n",
    "    jorip_length_sum = 0\n",
    "    jorip_yongchack_sum = 0\n",
    "    elec_use_sum = 0\n",
    "    elec_peak_max = 0\n",
    "    \n",
    "    for j in range(5):\n",
    "        gagong_weight_sum += gagong_weight[i+j]\n",
    "        gagong_length_sum += gagong_length[i+j]\n",
    "        dojang_pyomeyun_sum += dojang_pyomeyun[i+j]\n",
    "        dojang_dojang_sum += dojang_dojang[i+j]\n",
    "        jorip_weight_sum += jorip_weight[i+j]\n",
    "        jorip_length_sum += jorip_length[i+j]\n",
    "        jorip_yongchack_sum += jorip_yongchack[i+j]\n",
    "        elec_use_sum += elec_use[i+j]\n",
    "        elec_peak_max = max(elec_peak_max, elec_peak[i+j])\n",
    "        \n",
    "    weekly_gagong_weight.append(gagong_weight_sum)\n",
    "    weekly_gagong_length.append(gagong_length_sum)\n",
    "    weekly_dojang_pyomeyun.append(dojang_pyomeyun_sum)\n",
    "    weekly_dojang_dojang.append(dojang_dojang_sum)\n",
    "    weekly_jorip_weight.append(jorip_weight_sum)\n",
    "    weekly_jorip_length.append(jorip_length_sum)\n",
    "    weekly_jorip_yongchack.append(jorip_yongchack_sum)\n",
    "    weekly_elec_use.append(elec_use_sum)\n",
    "    weekly_elec_peak.append(elec_peak_max)"
   ]
  },
  {
   "attachments": {},
   "cell_type": "markdown",
   "metadata": {},
   "source": [
    "PEAK vs 시운전호선 - PEAK"
   ]
  },
  {
   "cell_type": "code",
   "execution_count": null,
   "metadata": {},
   "outputs": [],
   "source": [
    "import xgboost\n",
    "import matplotlib.pyplot as plt\n",
    "from sklearn.metrics import explained_variance_score\n",
    "import numpy as np\n",
    "from sklearn.model_selection import train_test_split\n",
    "\n",
    "#x=features, y=peak\n",
    "X_train = []\n",
    "X_train.append(np.array(weekly_gagong_weight, dtype=object))\n",
    "X_train.append(np.array(weekly_gagong_length, dtype=object))\n",
    "X_train.append(np.array(weekly_dojang_pyomeyun, dtype=object))\n",
    "X_train.append(np.array(weekly_dojang_dojang, dtype=object))\n",
    "X_train.append(np.array(weekly_jorip_weight, dtype=object))\n",
    "X_train.append(np.array(weekly_jorip_length, dtype=object))\n",
    "X_train.append(np.array(weekly_jorip_yongchack, dtype=object))\n",
    "X_train=np.array(X_train).transpose()\n",
    "\n",
    "y_train = np.array(weekly_elec_peak, dtype=object)\n",
    "xtrain, xtest, ytrain, ytest=te=train_test_split(X_train, y_train, test_size=0.2)\n",
    "xgb_model = xgboost.XGBRegressor(base_score=0.5, booster=\"gbtree\", colsample_bylevel=1, colsample_bynode=1, \n",
    "                                 colsample_bytree=1, gpu_id=-1, importance_type=\"gain\", interaction_constraints='', learning_rate=0.1, \n",
    "                                 max_delta_step=0, max_depth=5, min_child_weight=1, monotone_constraints='()', n_estimators=100, \n",
    "                                 gamma=0, n_jobs=0, num_parallel_tree=1, random_state=0, reg_alpha=0, reg_lambda=1, scale_pos_weight=1, \n",
    "                                 subsample=1, tree_method=\"exact\", validate_parameter=1, verbosity=None)\n",
    "\n",
    "print(X_train.shape)\n",
    "xgb_model.fit(X_train,y_train)\n",
    "ypred=xgb_model.predict(xtest)\n",
    "x_ax = range(len(ytest))\n",
    "plt.plot(x_ax, ytest, label=\"original\", alpha=1)\n",
    "plt.plot(x_ax, ypred, label=\"predicted\", alpha=1)\n",
    "plt.title(\"USE\")\n",
    "plt.legend()\n",
    "plt.show()"
   ]
  },
  {
   "cell_type": "code",
   "execution_count": 65,
   "metadata": {},
   "outputs": [
    {
     "data": {
      "text/plain": [
       "<Axes: title={'center': 'Feature importance'}, xlabel='F score', ylabel='Features'>"
      ]
     },
     "execution_count": 65,
     "metadata": {},
     "output_type": "execute_result"
    },
    {
     "data": {
      "image/png": "[encoded data removed]",
      "text/plain": [
       "<Figure size 640x480 with 1 Axes>"
      ]
     },
     "metadata": {},
     "output_type": "display_data"
    }
   ],
   "source": [
    "xgboost.plot_importance(xgb_model)\n",
    "#부하율, 온도, 습도, 최고기온, 최고습도, 조립량, 조립량 전체\n",
    "#  0     1      2     3        4        5       6"
   ]
  },
  {
   "cell_type": "code",
   "execution_count": 66,
   "metadata": {},
   "outputs": [
    {
     "name": "stdout",
     "output_type": "stream",
     "text": [
      "0.9872067190319804\n"
     ]
    }
   ],
   "source": [
    "r_sq = xgb_model.score(X_train, y_train)\n",
    "print(r_sq)\n",
    "\n",
    "# xgb_model.save_model(\"Peak_daily_model.txt\")"
   ]
  },
  {
   "attachments": {},
   "cell_type": "markdown",
   "metadata": {},
   "source": [
    "PEAK vs 시운전호선 - 총전력"
   ]
  },
  {
   "cell_type": "code",
   "execution_count": null,
   "metadata": {},
   "outputs": [],
   "source": [
    "from sklearn.model_selection import train_test_split\n",
    "import xgboost\n",
    "import matplotlib.pyplot as plt\n",
    "from sklearn.metrics import explained_variance_score\n",
    "import numpy as np\n",
    "\n",
    "#x=features, y=peak\n",
    "X_train_ = []\n",
    "X_train_.append(np.array(weekly_gagong_weight, dtype=object))\n",
    "X_train_.append(np.array(weekly_gagong_length, dtype=object))\n",
    "X_train_.append(np.array(weekly_dojang_pyomeyun, dtype=object))\n",
    "X_train_.append(np.array(weekly_dojang_dojang, dtype=object))\n",
    "X_train_.append(np.array(weekly_jorip_weight, dtype=object))\n",
    "X_train_.append(np.array(weekly_jorip_length, dtype=object))\n",
    "X_train_.append(np.array(weekly_jorip_yongchack, dtype=object))\n",
    "X_train_=np.array(X_train_).transpose()\n",
    "\n",
    "y_train_ = np.array(weekly_elec_use, dtype=object)\n",
    "xtrain, xtest, ytrain, ytest=te=train_test_split(X_train_, y_train_, test_size=0.2)\n",
    "xgb_model_ = xgboost.XGBRegressor(base_score=0.5, booster=\"gbtree\", colsample_bylevel=1, colsample_bynode=1, \n",
    "                                 colsample_bytree=1, gpu_id=-1, importance_type=\"gain\", interaction_constraints='', learning_rate=0.1, \n",
    "                                 max_delta_step=0, max_depth=5, min_child_weight=1, monotone_constraints='()', n_estimators=100, \n",
    "                                 gamma=0, n_jobs=0, num_parallel_tree=1, random_state=0, reg_alpha=0, reg_lambda=1, scale_pos_weight=1, \n",
    "                                 subsample=1, tree_method=\"exact\", validate_parameter=1, verbosity=None)\n",
    "\n",
    "print(X_train_.shape)\n",
    "xgb_model_.fit(xtrain,ytrain)\n",
    "ypred=xgb_model_.predict(xtest)\n",
    "res = range(len(ytest))\n",
    "plt.plot(res, ytest, label=\"original\")\n",
    "plt.plot(res, ypred, label=\"predicted\")\n",
    "plt.title(\"TOTAL ELEC\")\n",
    "plt.legend()\n",
    "plt.show()"
   ]
  },
  {
   "cell_type": "code",
   "execution_count": 68,
   "metadata": {},
   "outputs": [
    {
     "data": {
      "text/plain": [
       "<Axes: title={'center': 'Feature importance'}, xlabel='F score', ylabel='Features'>"
      ]
     },
     "execution_count": 68,
     "metadata": {},
     "output_type": "execute_result"
    },
    {
     "data": {
      "image/png": "[encoded data removed]",
      "text/plain": [
       "<Figure size 640x480 with 1 Axes>"
      ]
     },
     "metadata": {},
     "output_type": "display_data"
    }
   ],
   "source": [
    "xgboost.plot_importance(xgb_model_)\n",
    "#부하율, 온도, 습도, 최고기온, 최고습도, 조립량, 조립량 전체\n",
    "#  0     1      2     3        4        5       6"
   ]
  },
  {
   "cell_type": "code",
   "execution_count": 70,
   "metadata": {},
   "outputs": [
    {
     "name": "stdout",
     "output_type": "stream",
     "text": [
      "0.9933885203039234\n",
      "0.9872067190319804\n",
      "7306.871286029111 56245.51259818875 56009.0 148459.89250386905 10783.642996031956 58501.93874271201 5436.337415513135 3793423.2 51945.6\n"
     ]
    }
   ],
   "source": [
    "r_sq = xgb_model_.score(xtrain, ytrain)\n",
    "print(r_sq)\n",
    "\n",
    "# xgb_model_.save_model(\"Use_weekly_model.txt\")\n",
    "\n",
    "r_sq = xgb_model.score(X_train, y_train)\n",
    "print(r_sq)\n",
    "\n",
    "# xgb_model.save_model(\"Peak_weekly_model.txt\")\n",
    "\n",
    "print(weekly_gagong_weight[100], weekly_gagong_length[100], weekly_dojang_pyomeyun[100], weekly_dojang_dojang[100], weekly_jorip_weight[100], weekly_jorip_length[100], weekly_jorip_yongchack[100], weekly_elec_use[100], weekly_elec_peak[100])"
   ]
  }
 ],
 "metadata": {
  "kernelspec": {
   "display_name": "Python 3",
   "language": "python",
   "name": "python3"
  },
  "language_info": {
   "codemirror_mode": {
    "name": "ipython",
    "version": 3
   },
   "file_extension": ".py",
   "mimetype": "text/x-python",
   "name": "python",
   "nbconvert_exporter": "python",
   "pygments_lexer": "ipython3",
   "version": "3.11.3"
  },
  "orig_nbformat": 4
 },
 "nbformat": 4,
 "nbformat_minor": 2
}
