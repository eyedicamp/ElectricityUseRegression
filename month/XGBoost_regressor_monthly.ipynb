{
 "cells": [
  {
   "cell_type": "code",
   "execution_count": 17,
   "metadata": {},
   "outputs": [],
   "source": [
    "import openpyxl as op\n",
    "import matplotlib.pyplot as plt\n",
    "import pandas as pd\n",
    "import numpy as np"
   ]
  },
  {
   "cell_type": "code",
   "execution_count": null,
   "metadata": {},
   "outputs": [],
   "source": [
    "df=pd.read_excel('../가공-도장-조립 취합_전체.xlsx').drop(['Unnamed: 0'], axis=1).transpose()\n",
    "\n",
    "print(df)\n",
    "\n",
    "date = df.values.tolist()[0][:1653]\n",
    "gagong_weight = df.values.tolist()[1][:1653]\n",
    "gagong_length = df.values.tolist()[2][:1653]\n",
    "dojang_pyomeyun = df.values.tolist()[3][:1653]\n",
    "dojang_dojang = df.values.tolist()[4][:1653]\n",
    "jorip_weight = df.values.tolist()[5][:1653]\n",
    "jorip_length = df.values.tolist()[6][:1653]\n",
    "jorip_yongchack = df.values.tolist()[7][:1653]\n",
    "elec_use = df.values.tolist()[8][:1653]\n",
    "elec_peak = df.values.tolist()[9][:1653]\n",
    "\n",
    "print(elec_use)\n",
    "print(elec_peak)\n",
    "print(date)\n",
    "#a.plot(figsize=(20,10)).legend(bbox_to_anchor=(1.0, 1.0),fontsize='large')"
   ]
  },
  {
   "cell_type": "code",
   "execution_count": 19,
   "metadata": {},
   "outputs": [
    {
     "name": "stdout",
     "output_type": "stream",
     "text": [
      "1653\n",
      "1653\n"
     ]
    }
   ],
   "source": [
    "print(len(elec_peak))\n",
    "for i in range(1653):\n",
    "    if elec_peak[i] == 0:\n",
    "        mean = 0\n",
    "        for j in range(i-10, i+11):\n",
    "            mean += elec_peak[j]\n",
    "        mean = mean / 20\n",
    "        elec_peak[i] = mean\n",
    "\n",
    "print(len(elec_use))\n",
    "for i in range(1653):\n",
    "    if elec_use[i] == 0:\n",
    "        mean = 0\n",
    "        for j in range(i-10, i+11):\n",
    "            mean += elec_use[j]\n",
    "        mean = mean / 20\n",
    "        elec_use[i] = mean"
   ]
  },
  {
   "cell_type": "code",
   "execution_count": 20,
   "metadata": {},
   "outputs": [],
   "source": [
    "monthly_gagong_weight = []\n",
    "monthly_gagong_length = []\n",
    "monthly_dojang_pyomeyun = []\n",
    "monthly_dojang_dojang = []\n",
    "monthly_jorip_weight = []\n",
    "monthly_jorip_length = []\n",
    "monthly_jorip_yongchack = []\n",
    "monthly_elec_use = []\n",
    "monthly_elec_peak = []\n",
    "month_before = 5\n",
    "gagong_weight_sum = 0\n",
    "gagong_length_sum = 0\n",
    "dojang_pyomeyun_sum = 0\n",
    "dojang_dojang_sum = 0\n",
    "jorip_weight_sum = 0\n",
    "jorip_length_sum = 0\n",
    "jorip_yongchack_sum = 0\n",
    "elec_use_sum = 0\n",
    "elec_peak_max = 0\n",
    "\n",
    "\n",
    "for i in range(0, 1653):\n",
    "    if date[i][6] != month_before:\n",
    "        monthly_gagong_weight.append(gagong_weight_sum)\n",
    "        monthly_gagong_length.append(gagong_length_sum)\n",
    "        monthly_dojang_pyomeyun.append(dojang_pyomeyun_sum)\n",
    "        monthly_dojang_dojang.append(dojang_dojang_sum)\n",
    "        monthly_jorip_weight.append(jorip_weight_sum)\n",
    "        monthly_jorip_length.append(jorip_length_sum)\n",
    "        monthly_jorip_yongchack.append(jorip_yongchack_sum)\n",
    "        monthly_elec_use.append(elec_use_sum)\n",
    "        monthly_elec_peak.append(elec_peak_max)\n",
    "        \n",
    "        gagong_weight_sum = 0\n",
    "        gagong_length_sum = 0\n",
    "        dojang_pyomeyun_sum = 0\n",
    "        dojang_dojang_sum = 0\n",
    "        jorip_weight_sum = 0\n",
    "        jorip_length_sum = 0\n",
    "        jorip_yongchack_sum = 0\n",
    "        elec_use_sum = 0\n",
    "        elec_peak_max = 0\n",
    "        month_before = date[i][6]\n",
    "    \n",
    "    gagong_weight_sum += gagong_weight[i]\n",
    "    gagong_length_sum += gagong_length[i]\n",
    "    dojang_pyomeyun_sum += dojang_pyomeyun[i]\n",
    "    dojang_dojang_sum += dojang_dojang[i]\n",
    "    jorip_weight_sum += jorip_weight[i]\n",
    "    jorip_length_sum += jorip_length[i]\n",
    "    jorip_yongchack_sum += jorip_yongchack[i]\n",
    "    elec_use_sum += elec_use[i]\n",
    "    elec_peak_max = max(elec_peak_max, elec_peak[i])"
   ]
  },
  {
   "cell_type": "code",
   "execution_count": null,
   "metadata": {},
   "outputs": [],
   "source": [
    "import xgboost\n",
    "import matplotlib.pyplot as plt\n",
    "from sklearn.metrics import explained_variance_score\n",
    "import numpy as np\n",
    "from sklearn.model_selection import train_test_split\n",
    "\n",
    "#x=features, y=peak\n",
    "X_train = []\n",
    "X_train.append(np.array(monthly_gagong_weight, dtype=object))\n",
    "X_train.append(np.array(monthly_gagong_length, dtype=object))\n",
    "X_train.append(np.array(monthly_dojang_pyomeyun, dtype=object))\n",
    "X_train.append(np.array(monthly_dojang_dojang, dtype=object))\n",
    "X_train.append(np.array(monthly_jorip_weight, dtype=object))\n",
    "X_train.append(np.array(monthly_jorip_length, dtype=object))\n",
    "X_train.append(np.array(monthly_jorip_yongchack, dtype=object))\n",
    "X_train=np.array(X_train).transpose()\n",
    "\n",
    "y_train = np.array(monthly_elec_peak, dtype=object)\n",
    "xtrain, xtest, ytrain, ytest=te=train_test_split(X_train, y_train, test_size=0.2)\n",
    "xgb_model = xgboost.XGBRegressor(base_score=0.5, booster=\"gbtree\", colsample_bylevel=1, colsample_bynode=1, \n",
    "                                 colsample_bytree=1, gpu_id=-1, importance_type=\"gain\", interaction_constraints='', learning_rate=0.1, \n",
    "                                 max_delta_step=0, max_depth=5, min_child_weight=1, monotone_constraints='()', n_estimators=100, \n",
    "                                 gamma=0, n_jobs=0, num_parallel_tree=1, random_state=0, reg_alpha=0, reg_lambda=1, scale_pos_weight=1, \n",
    "                                 subsample=1, tree_method=\"exact\", validate_parameter=1, verbosity=None)\n",
    "\n",
    "print(X_train.shape)\n",
    "xgb_model.fit(X_train,y_train)\n",
    "ypred=xgb_model.predict(xtest)\n",
    "x_ax = range(len(ytest))\n",
    "plt.plot(x_ax, ytest, label=\"original\", alpha=1)\n",
    "plt.plot(x_ax, ypred, label=\"predicted\", alpha=1)\n",
    "plt.title(\"USE\")\n",
    "plt.legend()\n",
    "plt.show()"
   ]
  },
  {
   "cell_type": "code",
   "execution_count": 22,
   "metadata": {},
   "outputs": [
    {
     "data": {
      "text/plain": [
       "<Axes: title={'center': 'Feature importance'}, xlabel='F score', ylabel='Features'>"
      ]
     },
     "execution_count": 22,
     "metadata": {},
     "output_type": "execute_result"
    },
    {
     "data": {
      "image/png": "[encoded data removed]",
      "text/plain": [
       "<Figure size 640x480 with 1 Axes>"
      ]
     },
     "metadata": {},
     "output_type": "display_data"
    }
   ],
   "source": [
    "xgboost.plot_importance(xgb_model)"
   ]
  },
  {
   "cell_type": "code",
   "execution_count": 23,
   "metadata": {},
   "outputs": [
    {
     "name": "stdout",
     "output_type": "stream",
     "text": [
      "0.9994492156660643\n"
     ]
    }
   ],
   "source": [
    "r_sq = xgb_model.score(X_train, y_train)\n",
    "print(r_sq)"
   ]
  },
  {
   "cell_type": "code",
   "execution_count": null,
   "metadata": {},
   "outputs": [],
   "source": [
    "from sklearn.model_selection import train_test_split\n",
    "import xgboost\n",
    "import matplotlib.pyplot as plt\n",
    "from sklearn.metrics import explained_variance_score\n",
    "import numpy as np\n",
    "\n",
    "#x=features, y=peak\n",
    "X_train_ = []\n",
    "X_train_.append(np.array(monthly_gagong_weight, dtype=object))\n",
    "X_train_.append(np.array(monthly_gagong_length, dtype=object))\n",
    "X_train_.append(np.array(monthly_dojang_pyomeyun, dtype=object))\n",
    "X_train_.append(np.array(monthly_dojang_dojang, dtype=object))\n",
    "X_train_.append(np.array(monthly_jorip_weight, dtype=object))\n",
    "X_train_.append(np.array(monthly_jorip_length, dtype=object))\n",
    "X_train_.append(np.array(monthly_jorip_yongchack, dtype=object))\n",
    "X_train_=np.array(X_train_).transpose()\n",
    "\n",
    "y_train_ = np.array(monthly_elec_use, dtype=object)\n",
    "xtrain, xtest, ytrain, ytest=te=train_test_split(X_train_, y_train_, test_size=0.2)\n",
    "xgb_model_ = xgboost.XGBRegressor(base_score=0.5, booster=\"gbtree\", colsample_bylevel=1, colsample_bynode=1, \n",
    "                                 colsample_bytree=1, gpu_id=-1, importance_type=\"gain\", interaction_constraints='', learning_rate=0.1, \n",
    "                                 max_delta_step=0, max_depth=5, min_child_weight=1, monotone_constraints='()', n_estimators=100, \n",
    "                                 gamma=0, n_jobs=0, num_parallel_tree=1, random_state=0, reg_alpha=0, reg_lambda=1, scale_pos_weight=1, \n",
    "                                 subsample=1, tree_method=\"exact\", validate_parameter=1, verbosity=None)\n",
    "\n",
    "print(X_train_.shape)\n",
    "xgb_model_.fit(xtrain,ytrain)\n",
    "ypred=xgb_model_.predict(xtest)\n",
    "res = range(len(ytest))\n",
    "plt.plot(res, ytest, label=\"original\")\n",
    "plt.plot(res, ypred, label=\"predicted\")\n",
    "plt.title(\"TOTAL ELEC\")\n",
    "plt.legend()\n",
    "plt.show()"
   ]
  },
  {
   "cell_type": "code",
   "execution_count": 25,
   "metadata": {},
   "outputs": [
    {
     "data": {
      "text/plain": [
       "<Axes: title={'center': 'Feature importance'}, xlabel='F score', ylabel='Features'>"
      ]
     },
     "execution_count": 25,
     "metadata": {},
     "output_type": "execute_result"
    },
    {
     "data": {
      "image/png": "[encoded data removed]",
      "text/plain": [
       "<Figure size 640x480 with 1 Axes>"
      ]
     },
     "metadata": {},
     "output_type": "display_data"
    }
   ],
   "source": [
    "xgboost.plot_importance(xgb_model_)"
   ]
  },
  {
   "cell_type": "code",
   "execution_count": 26,
   "metadata": {},
   "outputs": [
    {
     "name": "stdout",
     "output_type": "stream",
     "text": [
      "0.9994636652670551\n",
      "0.9994492156660643\n",
      "24723.36166563704 225436.85803112213 529411.9779059449 4561639.032918035 47656.60404844131 247618.36407040557 30886.657370067416 37804804.800000004 121296.0\n"
     ]
    }
   ],
   "source": [
    "r_sq = xgb_model_.score(xtrain, ytrain)\n",
    "print(r_sq)\n",
    "\n",
    "# xgb_model_.save_model(\"Use_monthly_model.txt\")\n",
    "\n",
    "r_sq = xgb_model.score(X_train, y_train)\n",
    "print(r_sq)\n",
    "\n",
    "# xgb_model.save_model(\"Peak_monthly_model.txt\")\n",
    "\n",
    "print(monthly_gagong_weight[10], monthly_gagong_length[10], monthly_dojang_pyomeyun[10], monthly_dojang_dojang[10], monthly_jorip_weight[10], monthly_jorip_length[10], monthly_jorip_yongchack[10], monthly_elec_use[10], monthly_elec_peak[10])"
   ]
  }
 ],
 "metadata": {
  "kernelspec": {
   "display_name": "Python 3",
   "language": "python",
   "name": "python3"
  },
  "language_info": {
   "codemirror_mode": {
    "name": "ipython",
    "version": 3
   },
   "file_extension": ".py",
   "mimetype": "text/x-python",
   "name": "python",
   "nbconvert_exporter": "python",
   "pygments_lexer": "ipython3",
   "version": "3.11.3"
  },
  "orig_nbformat": 4
 },
 "nbformat": 4,
 "nbformat_minor": 2
}
