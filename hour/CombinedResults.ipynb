{
 "cells": [
  {
   "cell_type": "markdown",
   "id": "2d9d4141",
   "metadata": {},
   "source": [
    "# 1. 주요 파라미터 설정"
   ]
  },
  {
   "cell_type": "code",
   "execution_count": 83,
   "id": "b86ce25a",
   "metadata": {},
   "outputs": [],
   "source": [
    "nLookBackDays=5\n",
    "nForecastDays=1\n",
    "hoursPerDay = 24\n",
    "nForecastHours = nForecastDays * hoursPerDay"
   ]
  },
  {
   "cell_type": "code",
   "execution_count": 84,
   "id": "69aa5686",
   "metadata": {},
   "outputs": [],
   "source": [
    "import os\n",
    "os.environ[\"CUDA_VISIBLE_DEVICES\"]=\"0\""
   ]
  },
  {
   "cell_type": "code",
   "execution_count": 85,
   "id": "b40b91d9",
   "metadata": {},
   "outputs": [
    {
     "data": {
      "text/html": [
       "        <script type=\"text/javascript\">\n",
       "        window.PlotlyConfig = {MathJaxConfig: 'local'};\n",
       "        if (window.MathJax && window.MathJax.Hub && window.MathJax.Hub.Config) {window.MathJax.Hub.Config({SVG: {font: \"STIX-Web\"}});}\n",
       "        if (typeof require !== 'undefined') {\n",
       "        require.undef(\"plotly\");\n",
       "        requirejs.config({\n",
       "            paths: {\n",
       "                'plotly': ['https://cdn.plot.ly/plotly-2.24.1.min']\n",
       "            }\n",
       "        });\n",
       "        require(['plotly'], function(Plotly) {\n",
       "            window._Plotly = Plotly;\n",
       "        });\n",
       "        }\n",
       "        </script>\n",
       "        "
      ]
     },
     "metadata": {},
     "output_type": "display_data"
    }
   ],
   "source": [
    "# 추가 패키지\n",
    "import numpy as np\n",
    "import random\n",
    "from math import sqrt\n",
    "from sklearn.metrics import mean_squared_error\n",
    "import pandas as pd\n",
    "from tensorflow import keras\n",
    "\n",
    "import matplotlib.pyplot as plt\n",
    "from plotly.offline import init_notebook_mode, iplot\n",
    "init_notebook_mode(connected=True)\n",
    "plt.style.use('ggplot')\n",
    "\n",
    "from MyUtils import split_dataset\n",
    "from MyUtils import to_supervisedDaily # 1-24시간 단위로 분할\n",
    "from MyUtils import to_supervisedContinuousHours # 연속된 모든 24시간 단위로 분할\n",
    "from MyUtils import plotTrainingProgress\n",
    "from MyModels import *\n",
    "from ForcingMaxUtils import test_predict_mergedInput_mergedOutput_forcingMax"
   ]
  },
  {
   "cell_type": "markdown",
   "id": "9df41b29",
   "metadata": {},
   "source": [
    "# 2. 데이터 준비하기"
   ]
  },
  {
   "cell_type": "code",
   "execution_count": 86,
   "id": "0423169c",
   "metadata": {},
   "outputs": [],
   "source": [
    "pdDataset = pd.read_excel('3A)HourlyPower(SeparateDate)(AnyDayStart)(NoWeekend).xlsx', \n",
    "                          sheet_name = 'data')"
   ]
  },
  {
   "cell_type": "code",
   "execution_count": 87,
   "id": "aa424a23",
   "metadata": {},
   "outputs": [
    {
     "name": "stdout",
     "output_type": "stream",
     "text": [
      "4344\n"
     ]
    }
   ],
   "source": [
    "datalen = pdDataset.shape[0]\n",
    "print(datalen)"
   ]
  },
  {
   "cell_type": "code",
   "execution_count": 88,
   "id": "c619f01d",
   "metadata": {},
   "outputs": [
    {
     "name": "stdout",
     "output_type": "stream",
     "text": [
      "Number of days in total : 181\n"
     ]
    }
   ],
   "source": [
    "# 필요한 상수 정의하기\n",
    "numDaysTotal = int(datalen/hoursPerDay)\n",
    "print(\"Number of days in total :\", numDaysTotal)"
   ]
  },
  {
   "cell_type": "code",
   "execution_count": 89,
   "id": "8ccc9777",
   "metadata": {},
   "outputs": [],
   "source": [
    "perDayTotalPowerList = [] # 하루 24개 데이터를 리스트 형태로 저장(총전력)\n",
    "perDayTotalPower = [] # 하루 24시간 총 전력을 하나의 값으로 해서 저장\n",
    "perDayPeakPowerList = [] # 하루 24개 데이터를 리스트 형태로 저장(peak전력)\n",
    "perDayPeakPower = [] # 하루 중 최대 전력 하나를 골라서 저장\n",
    "perDayDateInfo = [] # 년.월.일 정보를 저장\n",
    "\n",
    "for nthDay in range(numDaysTotal):\n",
    "    currHourTotalPowerList, currHourPeakPowerList = [], []\n",
    "    \n",
    "    currDate = str(pdDataset[\"Year\"][nthDay*hoursPerDay]) + \".\" \\\n",
    "               + str(pdDataset[\"Month\"][nthDay*hoursPerDay]) + \".\" \\\n",
    "               + str(pdDataset[\"Day\"][nthDay*hoursPerDay])\n",
    "    perDayDateInfo.append(currDate)\n",
    "    \n",
    "    for hour in range(hoursPerDay):\n",
    "        index = nthDay*hoursPerDay + hour\n",
    "        currHourTotalPowerList.append(pdDataset[\"TotalPower(kWh)\"][index])\n",
    "        currHourPeakPowerList.append(pdDataset[\"PeakPower(kW)\"][index])\n",
    "   \n",
    "    perDayTotalPowerList.append(currHourTotalPowerList)\n",
    "    perDayTotalPower.append(sum(currHourTotalPowerList))\n",
    "    perDayPeakPowerList.append(currHourPeakPowerList)\n",
    "    perDayPeakPower.append(max(currHourPeakPowerList))\n",
    "    \n",
    "perDayTotalPowerList = np.array(perDayTotalPowerList)\n",
    "perDayTotalPower = np.array(perDayTotalPower)\n",
    "perDayPeakPowerList = np.array(perDayPeakPowerList)\n",
    "perDayPeakPower = np.array(perDayPeakPower)\n",
    "perDayDateInfo = np.array(perDayDateInfo)"
   ]
  },
  {
   "cell_type": "code",
   "execution_count": 90,
   "id": "607c3c0e",
   "metadata": {},
   "outputs": [
    {
     "name": "stdout",
     "output_type": "stream",
     "text": [
      "Train for 171 days out of 181 days\n",
      "Forecast for 10 days out of 181 days.\n"
     ]
    }
   ],
   "source": [
    "\"\"\"\n",
    "학습에 사용할 샘플 수 정하기\n",
    "터미널 출력 결과를 보고 비중(portion)을 적절히 골랐음\n",
    "\"\"\"\n",
    "portion = 0.945\n",
    "howManyDaysToTrain = int(numDaysTotal * portion)\n",
    "\n",
    "if True:\n",
    "    print(\"Train for \" + str(howManyDaysToTrain) \n",
    "          + \" days out of \" + str(numDaysTotal) + \" days\")\n",
    "    print(\"Forecast for %d days out of %d days.\" % (numDaysTotal\n",
    "                                                    - howManyDaysToTrain, numDaysTotal))"
   ]
  },
  {
   "cell_type": "code",
   "execution_count": 91,
   "id": "637d68c1",
   "metadata": {},
   "outputs": [],
   "source": [
    "rawHourlyPeakPower = pdDataset[\"PeakPower(kW)\"].values\n",
    "hourlyPeakPowerTrain, hourlyPeakPowerTest \\\n",
    "= split_dataset(rawHourlyPeakPower, howManyDaysToTrain, hoursPerDay)"
   ]
  },
  {
   "cell_type": "code",
   "execution_count": 92,
   "id": "1f16f840",
   "metadata": {},
   "outputs": [],
   "source": [
    "XHourlyPeakPowerTrain, yHourlyPeakPowerTrain \\\n",
    "= to_supervisedContinuousHours(hourlyPeakPowerTrain, nLookBackDays, nForecastDays)\n",
    "\n",
    "# 검증은 1-24시간 단위의 데이터로 할 것임 >> to_supervisedDaily 함수를 사용\n",
    "XHourlyPeakPowerTest, yHourlyPeakPowerTest \\\n",
    "= to_supervisedDaily(hourlyPeakPowerTest, nLookBackDays, nForecastDays)"
   ]
  },
  {
   "cell_type": "code",
   "execution_count": 93,
   "id": "708d53cc",
   "metadata": {},
   "outputs": [],
   "source": [
    "# 예측할 24시간에 대한 전력 peak를 미리 계산하고, 이를 조건부 입력으로 사용\n",
    "XContinuousDailyPeakPowerTrain = []\n",
    "#print(XContinuousDailyPeakPowerTrain.shape)\n",
    "\n",
    "numSamples = yHourlyPeakPowerTrain.shape[0]\n",
    "for i in range(numSamples):\n",
    "    sample = yHourlyPeakPowerTrain[i]\n",
    "    XContinuousDailyPeakPowerTrain.append(max(sample))  # 최대값을 리턴\n",
    "    if i == -1:\n",
    "        print(sample)\n",
    "        print(max(sample))\n",
    "        #break\n",
    "\n",
    "XContinuousDailyPeakPowerTrain = np.array(XContinuousDailyPeakPowerTrain)\n",
    "#print(XContinuousDailyPeakPowerTrain.shape)"
   ]
  },
  {
   "cell_type": "code",
   "execution_count": 94,
   "id": "90d7c6ea",
   "metadata": {},
   "outputs": [],
   "source": [
    "# 예측할 24시간에 대한 전력 peak를 미리 계산하고, 이를 조건부 입력으로 사용\n",
    "XContinuousDailyPeakPowerTest = []\n",
    "#print(XContinuousDailyPeakPowerTest.shape)\n",
    "\n",
    "numSamples = yHourlyPeakPowerTest.shape[0]\n",
    "for i in range(numSamples):\n",
    "    sample = yHourlyPeakPowerTest[i]\n",
    "    XContinuousDailyPeakPowerTest.append(max(sample))  # 최대값을 리턴\n",
    "    if i == -1:\n",
    "        print(sample)\n",
    "        print(max(sample))\n",
    "        #break\n",
    "\n",
    "XContinuousDailyPeakPowerTest = np.array(XContinuousDailyPeakPowerTest)\n",
    "#print(XContinuousDailyPeakPowerTest.shape)"
   ]
  },
  {
   "cell_type": "code",
   "execution_count": 95,
   "id": "7e5974c2",
   "metadata": {},
   "outputs": [],
   "source": [
    "from MyModels import build_transformer_conditionalInput_maxOutput_model_gAvgPooling\n",
    "from MyUtils import test_predict_mergedInput_mergedOutput_forcingMax_multiplemodels\n",
    "from sklearn.metrics import mean_absolute_error, mean_squared_error"
   ]
  },
  {
   "cell_type": "markdown",
   "id": "d0586e08",
   "metadata": {},
   "source": [
    "# 3. 모델 불러오기"
   ]
  },
  {
   "cell_type": "code",
   "execution_count": null,
   "id": "41390e8d",
   "metadata": {},
   "outputs": [],
   "source": [
    "# 1-24시 단위로 학습한 모델\n",
    "modelA1 = keras.models.load_model('modelAsave/model1.txt')\n",
    "modelA2 = keras.models.load_model('modelAsave/model2.txt')\n",
    "modelA3 = keras.models.load_model('modelAsave/model3.txt')"
   ]
  },
  {
   "cell_type": "code",
   "execution_count": null,
   "id": "52668473",
   "metadata": {},
   "outputs": [],
   "source": [
    "# 연속된 24시간 단위로 학습한 모델\n",
    "modelB1 = keras.models.load_model('modelBsave/model1.h5')\n",
    "modelB2 = keras.models.load_model('modelBsave/model2.h5')\n",
    "modelB3 = keras.models.load_model('modelBsave/model3.h5')"
   ]
  },
  {
   "cell_type": "markdown",
   "id": "85cb3167",
   "metadata": {},
   "source": [
    "# 4. PEAK 전력 예측하기 : 테스트 케이스에 대해서 예측하기"
   ]
  },
  {
   "cell_type": "markdown",
   "id": "9f43abc7",
   "metadata": {},
   "source": [
    "## 4.1. Model-A의 결과"
   ]
  },
  {
   "cell_type": "code",
   "execution_count": null,
   "id": "ca9b1da6",
   "metadata": {},
   "outputs": [],
   "source": [
    "# 예측하기 (평가는 1-24시 단위로 자른 데이터로...)\n",
    "# 3개의 모델간에는 max combine\n",
    "test_predict_mergedInput_mergedOutput_forcingMax_multiplemodels(modelA1, modelA2, modelA3, \n",
    "             [XHourlyPeakPowerTest,XContinuousDailyPeakPowerTest], \n",
    "             [yHourlyPeakPowerTest,XContinuousDailyPeakPowerTest], \n",
    "             \"Peak power prediction : model A series\")"
   ]
  },
  {
   "cell_type": "markdown",
   "id": "e2fc2548",
   "metadata": {},
   "source": [
    "## 4.2. Model-B의 결과"
   ]
  },
  {
   "cell_type": "code",
   "execution_count": null,
   "id": "ee5fa853",
   "metadata": {},
   "outputs": [],
   "source": [
    "# 예측하기 (평가는 1-24시 단위로 자른 데이터로...)\n",
    "# 3개의 모델간에는 max combine\n",
    "test_predict_mergedInput_mergedOutput_forcingMax_multiplemodels(modelB1, modelB2, modelB3, \n",
    "             [XHourlyPeakPowerTest,XContinuousDailyPeakPowerTest], \n",
    "             [yHourlyPeakPowerTest,XContinuousDailyPeakPowerTest], \n",
    "             \"Peak power prediction : model A series\")"
   ]
  },
  {
   "cell_type": "markdown",
   "id": "d94e8523",
   "metadata": {},
   "source": [
    "## 4.3. 통합 모델 결과"
   ]
  },
  {
   "cell_type": "code",
   "execution_count": null,
   "id": "a178f56b",
   "metadata": {},
   "outputs": [],
   "source": [
    "# 유틸리티 함수\n",
    "def test_predict_mergedInput_mergedOutput_forcingMax_3models_noFig(model1, model2, model3, Xmerged, ymerged):\n",
    "    # X 데이터 분리\n",
    "    X = Xmerged[0]\n",
    "    conditionalX = Xmerged[1]\n",
    "    # y 데이터 분리\n",
    "    y = ymerged[0]\n",
    "    maxy = ymerged[1]\n",
    "\n",
    "    ts_pred = [] # 시계열 예측값을 저장할 리스트\n",
    "    ts_actual = y.reshape(y.shape[0] * y.shape[1]) # 시계열 정답을 저장할 리스트\n",
    "    \n",
    "    ts_max_pred = [] # 24시간 예측 단위로, 예측으로 생성한 시계열 데이터의 max 저장할 리스트\n",
    "    ts_max_actual = [] # 24시간 예측 단위로, 정답에 해당하는 시계열 데이터의 max 저장할 리스트\n",
    "    \n",
    "    for i in range(X.shape[0]):\n",
    "        x_sample1 = X[i].reshape(1, len(X[i]), 1)\n",
    "        x_sample2 = conditionalX[i].reshape(1, len(conditionalX[i]), 1)\n",
    "        \n",
    "        [y_hat1, y_hat_max1] = model1.predict([x_sample1, x_sample2])\n",
    "        [y_hat2, y_hat_max2] = model2.predict([x_sample1, x_sample2])\n",
    "        [y_hat3, y_hat_max3] = model3.predict([x_sample1, x_sample2])\n",
    "            \n",
    "        y_hat_values1 = y_hat1[0].reshape(len(y_hat1[0]),).tolist()\n",
    "        y_hat_values2 = y_hat2[0].reshape(len(y_hat2[0]),).tolist()\n",
    "        y_hat_values3 = y_hat3[0].reshape(len(y_hat3[0]),).tolist()\n",
    "        \n",
    "        y_hat_values = []\n",
    "        for j in range(len(y_hat_values1)):\n",
    "            y_hat_values.append(max(y_hat_values1[j],y_hat_values2[j],y_hat_values3[j]))\n",
    "\n",
    "        if len(ts_pred) == 0:\n",
    "            ts_pred = y_hat_values\n",
    "        else:\n",
    "            ts_pred = ts_pred + y_hat_values\n",
    "            \n",
    "        ts_max_pred.append(max(y_hat_max1,y_hat_max2,y_hat_max3))\n",
    "        ts_max_actual.append(maxy[i][0])\n",
    "\n",
    "    return ts_pred, ts_max_pred, ts_actual, ts_max_actual"
   ]
  },
  {
   "cell_type": "code",
   "execution_count": null,
   "id": "c3798952",
   "metadata": {},
   "outputs": [],
   "source": [
    "ts_pred_modelA, ts_max_pred_modelA, ts_actual_modelA, ts_max_actual_modelA = \\\n",
    "    test_predict_mergedInput_mergedOutput_forcingMax_3models_noFig(modelA1, modelA2, modelA3, \n",
    "             [XHourlyPeakPowerTest,XContinuousDailyPeakPowerTest], \n",
    "             [yHourlyPeakPowerTest,XContinuousDailyPeakPowerTest])\n",
    "\n",
    "ts_pred_modelB, ts_max_pred_modelB, ts_actual_modelB, ts_max_actual_modelB = \\\n",
    "    test_predict_mergedInput_mergedOutput_forcingMax_3models_noFig(modelB1, modelB2, modelB3, \n",
    "             [XHourlyPeakPowerTest,XContinuousDailyPeakPowerTest], \n",
    "             [yHourlyPeakPowerTest,XContinuousDailyPeakPowerTest])"
   ]
  },
  {
   "cell_type": "code",
   "execution_count": null,
   "id": "7bed3712",
   "metadata": {},
   "outputs": [],
   "source": [
    "for i in range(len(ts_max_actual_modelA)):\n",
    "    assert ts_max_actual_modelA[i] == ts_max_actual_modelB[i]\n",
    "\n",
    "for i in range(len(ts_actual_modelA))    :\n",
    "    assert ts_actual_modelA[i] == ts_actual_modelB[i]\n",
    "    \n",
    "assert len(ts_pred_modelA) == len(ts_pred_modelB)\n",
    "assert len(ts_max_pred_modelA) == len(ts_max_pred_modelA)"
   ]
  },
  {
   "cell_type": "markdown",
   "id": "cae57b18",
   "metadata": {},
   "source": [
    "### 4.3.1. Max-Combine 결과"
   ]
  },
  {
   "cell_type": "code",
   "execution_count": null,
   "id": "584c62ed",
   "metadata": {},
   "outputs": [],
   "source": [
    "import statistics as st\n",
    "\n",
    "ts_actual = ts_actual_modelA # 실제 값\n",
    "ts_pred_final = [] # 예측 값\n",
    "\n",
    "for i in range(len(ts_pred_modelA)):\n",
    "       ts_pred_final.append(max(ts_pred_modelA[i], ts_pred_modelB[i]))\n",
    "    \n",
    "print(\"TimeSeries MAE : %d\"%(int(mean_absolute_error(ts_actual, ts_pred_final))))\n",
    "plt.figure()\n",
    "plt.plot(ts_actual, label='actual')\n",
    "plt.plot(ts_pred_final, label='forecast')\n",
    "plt.title('[max combine] final prediction ; time-series peak') \n",
    "plt.legend()\n",
    "plt.xlabel('hours')\n",
    "plt.show()"
   ]
  },
  {
   "cell_type": "code",
   "execution_count": null,
   "id": "c3df2962",
   "metadata": {},
   "outputs": [],
   "source": [
    "import statistics as st\n",
    "assert ts_max_actual_modelA == ts_max_actual_modelB\n",
    "ts_max_actual = ts_max_actual_modelA\n",
    "\n",
    "ts_max_pred_final = []\n",
    "for i in range(len(ts_max_pred_modelA)):\n",
    "    ts_max_pred_final.append(max(ts_max_pred_modelA[i], ts_max_pred_modelB[i]))\n",
    "\n",
    "# 24시간 예측 단위로, 시계열 데이터의 총합을 plot\n",
    "print(\"TimeSeriesMax MAE : %d\"%(int(mean_absolute_error(np.array(ts_max_actual), np.array(ts_max_pred_final)))))\n",
    "plt.figure()\n",
    "plt.bar(np.arange(len(ts_max_actual))-0.1, ts_max_actual, width=0.3, label='actual')\n",
    "plt.bar(np.arange(len(ts_max_pred_final))+0.1, ts_max_pred_final, width=0.3, label='forecast')\n",
    "plt.legend()\n",
    "plt.title(\"[max combine] daily power max\")\n",
    "plt.xlabel('days')\n",
    "plt.show()"
   ]
  },
  {
   "cell_type": "markdown",
   "id": "83edccc6",
   "metadata": {},
   "source": [
    "### 4.3.2. Mean-Combine 결과"
   ]
  },
  {
   "cell_type": "code",
   "execution_count": null,
   "id": "6b9c3fc4",
   "metadata": {},
   "outputs": [],
   "source": [
    "from sklearn.metrics import mean_absolute_error\n",
    "\n",
    "import statistics as st\n",
    "ts_pred_final = []\n",
    "for i in range(len(ts_pred_modelA)):\n",
    "    ts_pred_final.append(st.mean([ts_pred_modelA[i], ts_pred_modelB[i]]))\n",
    "    \n",
    "ts_actual = ts_actual_modelA\n",
    "#print(\"TimeSeries MAE : %d\"%(int(mae(ts_actual, ts_pred_final))))\n",
    "print(\"TimeSeries MAE : %d\"%(int(mean_absolute_error(ts_actual, ts_pred_final))))\n",
    "plt.figure()\n",
    "plt.plot(ts_actual, label='actual')\n",
    "plt.plot(ts_pred_final, label='forecast')\n",
    "plt.title('[mean combine] final prediction ; time-series peak') \n",
    "plt.legend()\n",
    "plt.xlabel('hours')\n",
    "plt.show()"
   ]
  },
  {
   "cell_type": "code",
   "execution_count": null,
   "id": "4571ee7c",
   "metadata": {},
   "outputs": [],
   "source": [
    "import statistics as st\n",
    "ts_max_pred_final = []\n",
    "for i in range(len(ts_max_pred_modelA)):\n",
    "    #ts_max_pred_final.append(max(ts_max_pred_modelA[i], ts_max_pred_modelB[i]))\n",
    "    ts_max_pred_final.append(st.mean([ts_max_pred_modelA[i], ts_max_pred_modelB[i]]))\n",
    "    \n",
    "ts_max_actual = ts_max_actual_modelA\n",
    "# 24시간 예측 단위로, 시계열 데이터의 총합을 plot\n",
    "print(\"TimeSeriesMax MAE : %d\"%(int(mean_absolute_error(np.array(ts_max_actual), np.array(ts_max_pred_final)))))\n",
    "plt.figure()\n",
    "plt.bar(np.arange(len(ts_max_actual))-0.1, ts_max_actual, width=0.3, label='actual')\n",
    "plt.bar(np.arange(len(ts_max_pred_final))+0.1, ts_max_pred_final, width=0.3, label='forecast')\n",
    "plt.legend()\n",
    "plt.title(\"[mean combine] daily power max\")\n",
    "plt.xlabel('days')\n",
    "plt.show()"
   ]
  }
 ],
 "metadata": {
  "kernelspec": {
   "display_name": "Python 3 (ipykernel)",
   "language": "python",
   "name": "python3"
  },
  "language_info": {
   "codemirror_mode": {
    "name": "ipython",
    "version": 3
   },
   "file_extension": ".py",
   "mimetype": "text/x-python",
   "name": "python",
   "nbconvert_exporter": "python",
   "pygments_lexer": "ipython3",
   "version": "3.11.3"
  }
 },
 "nbformat": 4,
 "nbformat_minor": 5
}
