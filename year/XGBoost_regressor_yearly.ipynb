{
 "cells": [
  {
   "cell_type": "code",
   "execution_count": 79,
   "metadata": {},
   "outputs": [],
   "source": [
    "import openpyxl as op\n",
    "import matplotlib.pyplot as plt\n",
    "import pandas as pd\n",
    "import numpy as np"
   ]
  },
  {
   "cell_type": "code",
   "execution_count": null,
   "metadata": {},
   "outputs": [],
   "source": [
    "df=pd.read_excel('../가공-도장-조립 취합_전체.xlsx').drop(['Unnamed: 0'], axis=1).transpose()\n",
    "\n",
    "print(df)\n",
    "\n",
    "date = df.values.tolist()[0][175:1480]\n",
    "gagong_weight = df.values.tolist()[1][175:1480]\n",
    "gagong_length = df.values.tolist()[2][175:1480]\n",
    "dojang_pyomeyun = df.values.tolist()[3][175:1480]\n",
    "dojang_dojang = df.values.tolist()[4][175:1480]\n",
    "jorip_weight = df.values.tolist()[5][175:1480]\n",
    "jorip_length = df.values.tolist()[6][175:1480]\n",
    "jorip_yongchack = df.values.tolist()[7][175:1480]\n",
    "elec_use = df.values.tolist()[8][175:1480]\n",
    "elec_peak = df.values.tolist()[9][175:1480]\n",
    "\n",
    "print(elec_use)\n",
    "print(elec_peak)\n",
    "print(date)"
   ]
  },
  {
   "cell_type": "code",
   "execution_count": 81,
   "metadata": {},
   "outputs": [
    {
     "name": "stdout",
     "output_type": "stream",
     "text": [
      "1305\n",
      "1305\n"
     ]
    }
   ],
   "source": [
    "print(len(elec_peak))\n",
    "for i in range(1305):\n",
    "    if elec_peak[i] == 0:\n",
    "        mean = 0\n",
    "        for j in range(i-10, i+11):\n",
    "            mean += elec_peak[j]\n",
    "        mean = mean / 20\n",
    "        elec_peak[i] = mean\n",
    "\n",
    "print(len(elec_use))\n",
    "for i in range(1305):\n",
    "    if elec_use[i] == 0:\n",
    "        mean = 0\n",
    "        for j in range(i-10, i+11):\n",
    "            mean += elec_use[j]\n",
    "        mean = mean / 20\n",
    "        elec_use[i] = mean"
   ]
  },
  {
   "cell_type": "code",
   "execution_count": 82,
   "metadata": {},
   "outputs": [],
   "source": [
    "yearly_gagong_weight = []\n",
    "yearly_gagong_length = []\n",
    "yearly_dojang_pyomeyun = []\n",
    "yearly_dojang_dojang = []\n",
    "yearly_jorip_weight = []\n",
    "yearly_jorip_length = []\n",
    "yearly_jorip_yongchack = []\n",
    "yearly_elec_use = []\n",
    "yearly_elec_peak = []\n",
    "year_before = 7\n",
    "gagong_weight_sum = 0\n",
    "gagong_length_sum = 0\n",
    "dojang_pyomeyun_sum = 0\n",
    "dojang_dojang_sum = 0\n",
    "jorip_weight_sum = 0\n",
    "jorip_length_sum = 0\n",
    "jorip_yongchack_sum = 0\n",
    "elec_use_sum = 0\n",
    "elec_peak_max = 0\n",
    "\n",
    "\n",
    "for i in range(0, 1305):\n",
    "    if date[i][3] != year_before:\n",
    "        yearly_gagong_weight.append(gagong_weight_sum)\n",
    "        yearly_gagong_length.append(gagong_length_sum)\n",
    "        yearly_dojang_pyomeyun.append(dojang_pyomeyun_sum)\n",
    "        yearly_dojang_dojang.append(dojang_dojang_sum)\n",
    "        yearly_jorip_weight.append(jorip_weight_sum)\n",
    "        yearly_jorip_length.append(jorip_length_sum)\n",
    "        yearly_jorip_yongchack.append(jorip_yongchack_sum)\n",
    "        yearly_elec_use.append(elec_use_sum)\n",
    "        yearly_elec_peak.append(elec_peak_max)\n",
    "        \n",
    "        gagong_weight_sum = 0\n",
    "        gagong_length_sum = 0\n",
    "        dojang_pyomeyun_sum = 0\n",
    "        dojang_dojang_sum = 0\n",
    "        jorip_weight_sum = 0\n",
    "        jorip_length_sum = 0\n",
    "        jorip_yongchack_sum = 0\n",
    "        elec_use_sum = 0\n",
    "        elec_peak_max = 0\n",
    "        year_before = date[i][3]\n",
    "    \n",
    "    gagong_weight_sum += gagong_weight[i]\n",
    "    gagong_length_sum += gagong_length[i]\n",
    "    dojang_pyomeyun_sum += dojang_pyomeyun[i]\n",
    "    dojang_dojang_sum += dojang_dojang[i]\n",
    "    jorip_weight_sum += jorip_weight[i]\n",
    "    jorip_length_sum += jorip_length[i]\n",
    "    jorip_yongchack_sum += jorip_yongchack[i]\n",
    "    elec_use_sum += elec_use[i]\n",
    "    elec_peak_max = max(elec_peak_max, elec_peak[i])"
   ]
  },
  {
   "cell_type": "code",
   "execution_count": null,
   "metadata": {},
   "outputs": [],
   "source": [
    "import xgboost\n",
    "import matplotlib.pyplot as plt\n",
    "from sklearn.metrics import explained_variance_score\n",
    "import numpy as np\n",
    "from sklearn.model_selection import train_test_split\n",
    "\n",
    "#x=features, y=peak\n",
    "X_train = []\n",
    "X_train.append(np.array(yearly_gagong_weight, dtype=object))\n",
    "X_train.append(np.array(yearly_gagong_length, dtype=object))\n",
    "X_train.append(np.array(yearly_dojang_pyomeyun, dtype=object))\n",
    "X_train.append(np.array(yearly_dojang_dojang, dtype=object))\n",
    "X_train.append(np.array(yearly_jorip_weight, dtype=object))\n",
    "X_train.append(np.array(yearly_jorip_length, dtype=object))\n",
    "X_train.append(np.array(yearly_jorip_yongchack, dtype=object))\n",
    "X_train=np.array(X_train).transpose()\n",
    "\n",
    "y_train = np.array(yearly_elec_peak, dtype=object)\n",
    "xtrain, xtest, ytrain, ytest=te=train_test_split(X_train, y_train, test_size=0.3)\n",
    "xgb_model = xgboost.XGBRegressor(base_score=0.5, booster=\"gbtree\", colsample_bylevel=1, colsample_bynode=1, \n",
    "                                 colsample_bytree=1, gpu_id=-1, importance_type=\"gain\", interaction_constraints='', learning_rate=0.1, \n",
    "                                 max_delta_step=0, max_depth=5, min_child_weight=1, monotone_constraints='()', n_estimators=100, \n",
    "                                 gamma=0, n_jobs=0, num_parallel_tree=1, random_state=0, reg_alpha=0, reg_lambda=1, scale_pos_weight=1, \n",
    "                                 subsample=1, tree_method=\"exact\", validate_parameter=1, verbosity=None)\n",
    "\n",
    "print(X_train.shape)\n",
    "xgb_model.fit(X_train,y_train)\n",
    "ypred=xgb_model.predict(xtest)\n",
    "x_ax = range(len(ytest))\n",
    "plt.plot(x_ax, ytest, label=\"original\", alpha=1)\n",
    "plt.plot(x_ax, ypred, label=\"predicted\", alpha=1)\n",
    "plt.title(\"USE\")\n",
    "plt.legend()\n",
    "plt.show()"
   ]
  },
  {
   "cell_type": "code",
   "execution_count": 84,
   "metadata": {},
   "outputs": [
    {
     "data": {
      "text/plain": [
       "<Axes: title={'center': 'Feature importance'}, xlabel='F score', ylabel='Features'>"
      ]
     },
     "execution_count": 84,
     "metadata": {},
     "output_type": "execute_result"
    },
    {
     "data": {
      "image/png": "[encoded data removed]",
      "text/plain": [
       "<Figure size 640x480 with 1 Axes>"
      ]
     },
     "metadata": {},
     "output_type": "display_data"
    }
   ],
   "source": [
    "xgboost.plot_importance(xgb_model)"
   ]
  },
  {
   "cell_type": "code",
   "execution_count": 85,
   "metadata": {},
   "outputs": [
    {
     "name": "stdout",
     "output_type": "stream",
     "text": [
      "0.9999650764162912\n"
     ]
    }
   ],
   "source": [
    "r_sq = xgb_model.score(X_train, y_train)\n",
    "print(r_sq)"
   ]
  },
  {
   "cell_type": "code",
   "execution_count": null,
   "metadata": {},
   "outputs": [],
   "source": [
    "from sklearn.model_selection import train_test_split\n",
    "import xgboost\n",
    "import matplotlib.pyplot as plt\n",
    "from sklearn.metrics import explained_variance_score\n",
    "import numpy as np\n",
    "\n",
    "#x=features, y=peak\n",
    "X_train_ = []\n",
    "X_train_.append(np.array(yearly_gagong_weight, dtype=object))\n",
    "X_train_.append(np.array(yearly_gagong_length, dtype=object))\n",
    "X_train_.append(np.array(yearly_dojang_pyomeyun, dtype=object))\n",
    "X_train_.append(np.array(yearly_dojang_dojang, dtype=object))\n",
    "X_train_.append(np.array(yearly_jorip_weight, dtype=object))\n",
    "X_train_.append(np.array(yearly_jorip_length, dtype=object))\n",
    "X_train_.append(np.array(yearly_jorip_yongchack, dtype=object))\n",
    "X_train_=np.array(X_train_).transpose()\n",
    "\n",
    "y_train_ = np.array(yearly_elec_use, dtype=object)\n",
    "xtrain, xtest, ytrain, ytest=te=train_test_split(X_train_, y_train_, test_size=0.3)\n",
    "xgb_model_ = xgboost.XGBRegressor(base_score=0.5, booster=\"gbtree\", colsample_bylevel=1, colsample_bynode=1, \n",
    "                                 colsample_bytree=1, gpu_id=-1, importance_type=\"gain\", interaction_constraints='', learning_rate=0.1, \n",
    "                                 max_delta_step=0, max_depth=5, min_child_weight=1, monotone_constraints='()', n_estimators=100, \n",
    "                                 gamma=0, n_jobs=0, num_parallel_tree=1, random_state=0, reg_alpha=0, reg_lambda=1, scale_pos_weight=1, \n",
    "                                 subsample=1, tree_method=\"exact\", validate_parameter=1, verbosity=None)\n",
    "\n",
    "print(X_train_.shape)\n",
    "xgb_model_.fit(xtrain,ytrain)\n",
    "ypred=xgb_model_.predict(xtest)\n",
    "res = range(len(ytest))\n",
    "plt.plot(res, ytest, label=\"original\")\n",
    "plt.plot(res, ypred, label=\"predicted\")\n",
    "plt.title(\"TOTAL ELEC\")\n",
    "plt.legend()\n",
    "plt.show()"
   ]
  },
  {
   "cell_type": "code",
   "execution_count": 87,
   "metadata": {},
   "outputs": [
    {
     "data": {
      "text/plain": [
       "<Axes: title={'center': 'Feature importance'}, xlabel='F score', ylabel='Features'>"
      ]
     },
     "execution_count": 87,
     "metadata": {},
     "output_type": "execute_result"
    },
    {
     "data": {
      "image/png": "[encoded data removed]",
      "text/plain": [
       "<Figure size 640x480 with 1 Axes>"
      ]
     },
     "metadata": {},
     "output_type": "display_data"
    }
   ],
   "source": [
    "xgboost.plot_importance(xgb_model_)"
   ]
  },
  {
   "cell_type": "code",
   "execution_count": 88,
   "metadata": {},
   "outputs": [
    {
     "name": "stdout",
     "output_type": "stream",
     "text": [
      "0.9999445179492853\n",
      "0.9999650764162912\n",
      "424128.07531820046 3929297.46586495 6675639.474166667 11231904.258213727 744829.3699452844 4669001.440572028 169662.60071844063 316370266.00200015 114643.2\n"
     ]
    }
   ],
   "source": [
    "r_sq = xgb_model_.score(xtrain, ytrain)\n",
    "print(r_sq)\n",
    "\n",
    "# xgb_model_.save_model(\"Use_yearly_model.txt\")\n",
    "\n",
    "r_sq = xgb_model.score(X_train, y_train)\n",
    "print(r_sq)\n",
    "\n",
    "# xgb_model.save_model(\"Peak_yearly_model.txt\")\n",
    "\n",
    "print(yearly_gagong_weight[4], yearly_gagong_length[4], yearly_dojang_pyomeyun[4], yearly_dojang_dojang[4], yearly_jorip_weight[4], yearly_jorip_length[4], yearly_jorip_yongchack[4], yearly_elec_use[4], yearly_elec_peak[4])"
   ]
  }
 ],
 "metadata": {
  "kernelspec": {
   "display_name": "Python 3",
   "language": "python",
   "name": "python3"
  },
  "language_info": {
   "codemirror_mode": {
    "name": "ipython",
    "version": 3
   },
   "file_extension": ".py",
   "mimetype": "text/x-python",
   "name": "python",
   "nbconvert_exporter": "python",
   "pygments_lexer": "ipython3",
   "version": "3.11.3"
  },
  "orig_nbformat": 4
 },
 "nbformat": 4,
 "nbformat_minor": 2
}
